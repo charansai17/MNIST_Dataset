{
  "nbformat": 4,
  "nbformat_minor": 0,
  "metadata": {
    "colab": {
      "name": "Copy of CNN_MNIST.ipynb",
      "provenance": [],
      "collapsed_sections": []
    },
    "kernelspec": {
      "name": "python3",
      "display_name": "Python 3"
    }
  },
  "cells": [
    {
      "cell_type": "code",
      "metadata": {
        "id": "H9EU0e8yzFOm",
        "colab_type": "code",
        "outputId": "75e046b8-ae25-4bb5-b1fb-a4376ef2e2ca",
        "colab": {
          "base_uri": "https://localhost:8080/",
          "height": 1000
        }
      },
      "source": [
        "# Credits: https://github.com/keras-team/keras/blob/master/examples/mnist_cnn.py\n",
        "\n",
        "\n",
        "from __future__ import print_function\n",
        "import keras\n",
        "from keras.datasets import mnist\n",
        "from keras.models import Sequential\n",
        "from keras.layers import Dense, Dropout, Flatten\n",
        "from keras.layers import Conv2D, MaxPooling2D\n",
        "from keras import backend as K\n",
        "\n",
        "batch_size = 128\n",
        "num_classes = 10\n",
        "epochs = 12\n",
        "\n",
        "# input image dimensions\n",
        "img_rows, img_cols = 28, 28\n",
        "\n",
        "# the data, split between train and test sets\n",
        "(x_train, y_train), (x_test, y_test) = mnist.load_data()\n",
        "\n",
        "if K.image_data_format() == 'channels_first':\n",
        "    x_train = x_train.reshape(x_train.shape[0], 1, img_rows, img_cols)\n",
        "    x_test = x_test.reshape(x_test.shape[0], 1, img_rows, img_cols)\n",
        "    input_shape = (1, img_rows, img_cols)\n",
        "else:\n",
        "    x_train = x_train.reshape(x_train.shape[0], img_rows, img_cols, 1)\n",
        "    x_test = x_test.reshape(x_test.shape[0], img_rows, img_cols, 1)\n",
        "    input_shape = (img_rows, img_cols, 1)\n",
        "\n",
        "x_train = x_train.astype('float32')\n",
        "x_test = x_test.astype('float32')\n",
        "x_train /= 255\n",
        "x_test /= 255\n",
        "print('x_train shape:', x_train.shape)\n",
        "print(x_train.shape[0], 'train samples')\n",
        "print(x_test.shape[0], 'test samples')\n",
        "\n",
        "# convert class vectors to binary class matrices\n",
        "y_train = keras.utils.to_categorical(y_train, num_classes)\n",
        "y_test = keras.utils.to_categorical(y_test, num_classes)\n",
        "\n",
        "model = Sequential()\n",
        "model.add(Conv2D(32, kernel_size=(3, 3),\n",
        "                 activation='relu',\n",
        "                 input_shape=input_shape))\n",
        "model.add(Conv2D(64, (3, 3), activation='relu'))\n",
        "model.add(MaxPooling2D(pool_size=(2, 2)))\n",
        "model.add(Dropout(0.25))\n",
        "model.add(Flatten())\n",
        "model.add(Dense(128, activation='relu'))\n",
        "model.add(Dropout(0.5))\n",
        "model.add(Dense(num_classes, activation='softmax'))\n",
        "\n",
        "model.compile(loss=keras.losses.categorical_crossentropy,\n",
        "              optimizer=keras.optimizers.Adadelta(),\n",
        "              metrics=['accuracy'])\n",
        "\n",
        "model.fit(x_train, y_train,\n",
        "          batch_size=batch_size,\n",
        "          epochs=epochs,\n",
        "          verbose=1,\n",
        "          validation_data=(x_test, y_test))\n",
        "score = model.evaluate(x_test, y_test, verbose=0)\n",
        "print('Test loss:', score[0])\n",
        "print('Test accuracy:', score[1])"
      ],
      "execution_count": 1,
      "outputs": [
        {
          "output_type": "stream",
          "text": [
            "Using TensorFlow backend.\n"
          ],
          "name": "stderr"
        },
        {
          "output_type": "display_data",
          "data": {
            "text/html": [
              "<p style=\"color: red;\">\n",
              "The default version of TensorFlow in Colab will soon switch to TensorFlow 2.x.<br>\n",
              "We recommend you <a href=\"https://www.tensorflow.org/guide/migrate\" target=\"_blank\">upgrade</a> now \n",
              "or ensure your notebook will continue to use TensorFlow 1.x via the <code>%tensorflow_version 1.x</code> magic:\n",
              "<a href=\"https://colab.research.google.com/notebooks/tensorflow_version.ipynb\" target=\"_blank\">more info</a>.</p>\n"
            ],
            "text/plain": [
              "<IPython.core.display.HTML object>"
            ]
          },
          "metadata": {
            "tags": []
          }
        },
        {
          "output_type": "stream",
          "text": [
            "Downloading data from https://s3.amazonaws.com/img-datasets/mnist.npz\n",
            "11493376/11490434 [==============================] - 0s 0us/step\n",
            "x_train shape: (60000, 28, 28, 1)\n",
            "60000 train samples\n",
            "10000 test samples\n",
            "WARNING:tensorflow:From /usr/local/lib/python3.6/dist-packages/keras/backend/tensorflow_backend.py:66: The name tf.get_default_graph is deprecated. Please use tf.compat.v1.get_default_graph instead.\n",
            "\n",
            "WARNING:tensorflow:From /usr/local/lib/python3.6/dist-packages/keras/backend/tensorflow_backend.py:541: The name tf.placeholder is deprecated. Please use tf.compat.v1.placeholder instead.\n",
            "\n",
            "WARNING:tensorflow:From /usr/local/lib/python3.6/dist-packages/keras/backend/tensorflow_backend.py:4432: The name tf.random_uniform is deprecated. Please use tf.random.uniform instead.\n",
            "\n",
            "WARNING:tensorflow:From /usr/local/lib/python3.6/dist-packages/keras/backend/tensorflow_backend.py:4267: The name tf.nn.max_pool is deprecated. Please use tf.nn.max_pool2d instead.\n",
            "\n",
            "WARNING:tensorflow:From /usr/local/lib/python3.6/dist-packages/keras/backend/tensorflow_backend.py:148: The name tf.placeholder_with_default is deprecated. Please use tf.compat.v1.placeholder_with_default instead.\n",
            "\n",
            "WARNING:tensorflow:From /usr/local/lib/python3.6/dist-packages/keras/backend/tensorflow_backend.py:3733: calling dropout (from tensorflow.python.ops.nn_ops) with keep_prob is deprecated and will be removed in a future version.\n",
            "Instructions for updating:\n",
            "Please use `rate` instead of `keep_prob`. Rate should be set to `rate = 1 - keep_prob`.\n",
            "WARNING:tensorflow:From /usr/local/lib/python3.6/dist-packages/keras/optimizers.py:793: The name tf.train.Optimizer is deprecated. Please use tf.compat.v1.train.Optimizer instead.\n",
            "\n",
            "WARNING:tensorflow:From /usr/local/lib/python3.6/dist-packages/keras/backend/tensorflow_backend.py:3576: The name tf.log is deprecated. Please use tf.math.log instead.\n",
            "\n",
            "WARNING:tensorflow:From /tensorflow-1.15.0/python3.6/tensorflow_core/python/ops/math_grad.py:1424: where (from tensorflow.python.ops.array_ops) is deprecated and will be removed in a future version.\n",
            "Instructions for updating:\n",
            "Use tf.where in 2.0, which has the same broadcast rule as np.where\n",
            "WARNING:tensorflow:From /usr/local/lib/python3.6/dist-packages/keras/backend/tensorflow_backend.py:1033: The name tf.assign_add is deprecated. Please use tf.compat.v1.assign_add instead.\n",
            "\n",
            "WARNING:tensorflow:From /usr/local/lib/python3.6/dist-packages/keras/backend/tensorflow_backend.py:1020: The name tf.assign is deprecated. Please use tf.compat.v1.assign instead.\n",
            "\n",
            "WARNING:tensorflow:From /usr/local/lib/python3.6/dist-packages/keras/backend/tensorflow_backend.py:3005: The name tf.Session is deprecated. Please use tf.compat.v1.Session instead.\n",
            "\n",
            "Train on 60000 samples, validate on 10000 samples\n",
            "Epoch 1/12\n",
            "WARNING:tensorflow:From /usr/local/lib/python3.6/dist-packages/keras/backend/tensorflow_backend.py:190: The name tf.get_default_session is deprecated. Please use tf.compat.v1.get_default_session instead.\n",
            "\n",
            "WARNING:tensorflow:From /usr/local/lib/python3.6/dist-packages/keras/backend/tensorflow_backend.py:197: The name tf.ConfigProto is deprecated. Please use tf.compat.v1.ConfigProto instead.\n",
            "\n",
            "WARNING:tensorflow:From /usr/local/lib/python3.6/dist-packages/keras/backend/tensorflow_backend.py:207: The name tf.global_variables is deprecated. Please use tf.compat.v1.global_variables instead.\n",
            "\n",
            "WARNING:tensorflow:From /usr/local/lib/python3.6/dist-packages/keras/backend/tensorflow_backend.py:216: The name tf.is_variable_initialized is deprecated. Please use tf.compat.v1.is_variable_initialized instead.\n",
            "\n",
            "WARNING:tensorflow:From /usr/local/lib/python3.6/dist-packages/keras/backend/tensorflow_backend.py:223: The name tf.variables_initializer is deprecated. Please use tf.compat.v1.variables_initializer instead.\n",
            "\n",
            "60000/60000 [==============================] - 156s 3ms/step - loss: 0.2588 - acc: 0.9201 - val_loss: 0.0568 - val_acc: 0.9830\n",
            "Epoch 2/12\n",
            "60000/60000 [==============================] - 156s 3ms/step - loss: 0.0877 - acc: 0.9737 - val_loss: 0.0447 - val_acc: 0.9848\n",
            "Epoch 3/12\n",
            "60000/60000 [==============================] - 156s 3ms/step - loss: 0.0662 - acc: 0.9799 - val_loss: 0.0380 - val_acc: 0.9871\n",
            "Epoch 4/12\n",
            "60000/60000 [==============================] - 156s 3ms/step - loss: 0.0552 - acc: 0.9834 - val_loss: 0.0334 - val_acc: 0.9891\n",
            "Epoch 5/12\n",
            "60000/60000 [==============================] - 155s 3ms/step - loss: 0.0482 - acc: 0.9853 - val_loss: 0.0311 - val_acc: 0.9896\n",
            "Epoch 6/12\n",
            "60000/60000 [==============================] - 156s 3ms/step - loss: 0.0414 - acc: 0.9875 - val_loss: 0.0295 - val_acc: 0.9905\n",
            "Epoch 7/12\n",
            "60000/60000 [==============================] - 155s 3ms/step - loss: 0.0367 - acc: 0.9888 - val_loss: 0.0306 - val_acc: 0.9903\n",
            "Epoch 8/12\n",
            "60000/60000 [==============================] - 156s 3ms/step - loss: 0.0335 - acc: 0.9896 - val_loss: 0.0329 - val_acc: 0.9898\n",
            "Epoch 9/12\n",
            "60000/60000 [==============================] - 155s 3ms/step - loss: 0.0303 - acc: 0.9905 - val_loss: 0.0307 - val_acc: 0.9899\n",
            "Epoch 10/12\n",
            "60000/60000 [==============================] - 157s 3ms/step - loss: 0.0289 - acc: 0.9918 - val_loss: 0.0295 - val_acc: 0.9900\n",
            "Epoch 11/12\n",
            "60000/60000 [==============================] - 156s 3ms/step - loss: 0.0275 - acc: 0.9917 - val_loss: 0.0319 - val_acc: 0.9908\n",
            "Epoch 12/12\n",
            "60000/60000 [==============================] - 156s 3ms/step - loss: 0.0268 - acc: 0.9915 - val_loss: 0.0327 - val_acc: 0.9899\n",
            "Test loss: 0.03266163398709341\n",
            "Test accuracy: 0.9899\n"
          ],
          "name": "stdout"
        }
      ]
    },
    {
      "cell_type": "markdown",
      "metadata": {
        "id": "58eA6Idnf9iU",
        "colab_type": "text"
      },
      "source": [
        "Using the Errorplot code from the Keras assignment"
      ]
    },
    {
      "cell_type": "code",
      "metadata": {
        "id": "l9R6D49KiyEO",
        "colab_type": "code",
        "colab": {}
      },
      "source": [
        "# if you keras is not using tensorflow as backend set \"KERAS_BACKEND=tensorflow\" use this command\n",
        "from keras.utils import np_utils \n",
        "from keras.datasets import mnist \n",
        "import seaborn as sns\n",
        "from keras.initializers import RandomNormal"
      ],
      "execution_count": 0,
      "outputs": []
    },
    {
      "cell_type": "code",
      "metadata": {
        "id": "OqxZQKeri3RK",
        "colab_type": "code",
        "colab": {}
      },
      "source": [
        "%matplotlib notebook\n",
        "import matplotlib.pyplot as plt\n",
        "import numpy as np\n",
        "import time\n",
        "# https://gist.github.com/greydanus/f6eee59eaf1d90fcb3b534a25362cea4\n",
        "# https://stackoverflow.com/a/14434334\n",
        "# this function is used to update the plots for each epoch and error\n",
        "def plt_dynamic(x, vy, ty, ax, colors=['b']):\n",
        "    ax.plot(x, vy, 'b', label=\"Validation Loss\")\n",
        "    ax.plot(x, ty, 'r', label=\"Train Loss\")\n",
        "    plt.legend()\n",
        "    plt.grid()\n",
        "    fig.canvas.draw()"
      ],
      "execution_count": 0,
      "outputs": []
    },
    {
      "cell_type": "code",
      "metadata": {
        "id": "ZibusKvyi5i2",
        "colab_type": "code",
        "colab": {}
      },
      "source": [
        "%matplotlib inline"
      ],
      "execution_count": 0,
      "outputs": []
    },
    {
      "cell_type": "markdown",
      "metadata": {
        "id": "5Pb2wJZ-jOTl",
        "colab_type": "text"
      },
      "source": [
        "<h3> Model 1 : 2 conv + 2 maxpool + dropout + 2 dense layer + adam optimizer </h3>"
      ]
    },
    {
      "cell_type": "code",
      "metadata": {
        "id": "025KXNHyi-Lh",
        "colab_type": "code",
        "colab": {
          "base_uri": "https://localhost:8080/",
          "height": 425
        },
        "outputId": "4877bc19-5477-4146-cbc4-cb9ecd45febd"
      },
      "source": [
        "model = Sequential()\n",
        "model.add(Conv2D(4, kernel_size=(3, 3),activation='relu',padding='same',input_shape=input_shape))\n",
        "model.add(MaxPooling2D(pool_size=(2, 2),strides=2))\n",
        "model.add(Conv2D(8, (3, 3), activation='relu'))\n",
        "model.add(MaxPooling2D(pool_size=(2, 2),strides=2))\n",
        "model.add(Flatten())\n",
        "model.add(Dense(84, activation='relu'))\n",
        "model.add(Dropout(0.5))\n",
        "model.add(Dense(num_classes, activation='softmax'))\n",
        "model.compile(loss=keras.losses.categorical_crossentropy,\n",
        "              optimizer=keras.optimizers.adam(),\n",
        "              metrics=['accuracy'])\n",
        "# this will train the model and validate the model in this fit function\n",
        "model.summary()"
      ],
      "execution_count": 5,
      "outputs": [
        {
          "output_type": "stream",
          "text": [
            "Model: \"sequential_2\"\n",
            "_________________________________________________________________\n",
            "Layer (type)                 Output Shape              Param #   \n",
            "=================================================================\n",
            "conv2d_3 (Conv2D)            (None, 28, 28, 4)         40        \n",
            "_________________________________________________________________\n",
            "max_pooling2d_2 (MaxPooling2 (None, 14, 14, 4)         0         \n",
            "_________________________________________________________________\n",
            "conv2d_4 (Conv2D)            (None, 12, 12, 8)         296       \n",
            "_________________________________________________________________\n",
            "max_pooling2d_3 (MaxPooling2 (None, 6, 6, 8)           0         \n",
            "_________________________________________________________________\n",
            "flatten_2 (Flatten)          (None, 288)               0         \n",
            "_________________________________________________________________\n",
            "dense_3 (Dense)              (None, 84)                24276     \n",
            "_________________________________________________________________\n",
            "dropout_3 (Dropout)          (None, 84)                0         \n",
            "_________________________________________________________________\n",
            "dense_4 (Dense)              (None, 10)                850       \n",
            "=================================================================\n",
            "Total params: 25,462\n",
            "Trainable params: 25,462\n",
            "Non-trainable params: 0\n",
            "_________________________________________________________________\n"
          ],
          "name": "stdout"
        }
      ]
    },
    {
      "cell_type": "code",
      "metadata": {
        "id": "Nd9gK8qwi-Zr",
        "colab_type": "code",
        "colab": {
          "base_uri": "https://localhost:8080/",
          "height": 476
        },
        "outputId": "d025c0b9-dd9e-4633-d2fb-f45768c38275"
      },
      "source": [
        "history=model.fit(x_train, y_train,\n",
        "                  batch_size=batch_size,\n",
        "                  epochs=epochs,\n",
        "                  verbose=1,\n",
        "                  validation_data=(x_test, y_test))\n",
        "score = model.evaluate(x_test, y_test, verbose=0)\n",
        "print('Test loss:', score[0])\n",
        "print('Test accuracy:', score[1])"
      ],
      "execution_count": 6,
      "outputs": [
        {
          "output_type": "stream",
          "text": [
            "Train on 60000 samples, validate on 10000 samples\n",
            "Epoch 1/12\n",
            "60000/60000 [==============================] - 23s 377us/step - loss: 0.6148 - acc: 0.8085 - val_loss: 0.1444 - val_acc: 0.9584\n",
            "Epoch 2/12\n",
            "60000/60000 [==============================] - 22s 368us/step - loss: 0.2220 - acc: 0.9327 - val_loss: 0.0969 - val_acc: 0.9709\n",
            "Epoch 3/12\n",
            "60000/60000 [==============================] - 22s 366us/step - loss: 0.1722 - acc: 0.9489 - val_loss: 0.0770 - val_acc: 0.9770\n",
            "Epoch 4/12\n",
            "60000/60000 [==============================] - 22s 367us/step - loss: 0.1511 - acc: 0.9554 - val_loss: 0.0674 - val_acc: 0.9784\n",
            "Epoch 5/12\n",
            "60000/60000 [==============================] - 22s 366us/step - loss: 0.1342 - acc: 0.9598 - val_loss: 0.0601 - val_acc: 0.9806\n",
            "Epoch 6/12\n",
            "60000/60000 [==============================] - 22s 365us/step - loss: 0.1228 - acc: 0.9632 - val_loss: 0.0562 - val_acc: 0.9813\n",
            "Epoch 7/12\n",
            "60000/60000 [==============================] - 22s 368us/step - loss: 0.1156 - acc: 0.9656 - val_loss: 0.0529 - val_acc: 0.9828\n",
            "Epoch 8/12\n",
            "60000/60000 [==============================] - 22s 363us/step - loss: 0.1069 - acc: 0.9682 - val_loss: 0.0501 - val_acc: 0.9841\n",
            "Epoch 9/12\n",
            "60000/60000 [==============================] - 22s 367us/step - loss: 0.1021 - acc: 0.9698 - val_loss: 0.0458 - val_acc: 0.9859\n",
            "Epoch 10/12\n",
            "60000/60000 [==============================] - 22s 364us/step - loss: 0.0963 - acc: 0.9705 - val_loss: 0.0432 - val_acc: 0.9869\n",
            "Epoch 11/12\n",
            "60000/60000 [==============================] - 22s 364us/step - loss: 0.0919 - acc: 0.9714 - val_loss: 0.0430 - val_acc: 0.9861\n",
            "Epoch 12/12\n",
            "60000/60000 [==============================] - 22s 369us/step - loss: 0.0885 - acc: 0.9730 - val_loss: 0.0417 - val_acc: 0.9866\n",
            "Test loss: 0.041687695559760325\n",
            "Test accuracy: 0.9866\n"
          ],
          "name": "stdout"
        }
      ]
    },
    {
      "cell_type": "code",
      "metadata": {
        "id": "q0AMQba4i-lB",
        "colab_type": "code",
        "colab": {
          "base_uri": "https://localhost:8080/",
          "height": 313
        },
        "outputId": "f2fd3111-fca1-4262-e0c1-735161d4e80c"
      },
      "source": [
        "score = model.evaluate(x_test, y_test, verbose=0) \n",
        "print('Test score:', score[0]) \n",
        "print('Test accuracy:', score[1])\n",
        "\n",
        "fig,ax = plt.subplots(1,1)\n",
        "ax.set_xlabel('epoch') ; ax.set_ylabel('Categorical Crossentropy Loss')\n",
        "\n",
        "# list of epoch numbers\n",
        "x = list(range(1,epochs+1))\n",
        "\n",
        "# print(history.history.keys())\n",
        "# dict_keys(['val_loss', 'val_acc', 'loss', 'acc'])\n",
        "# history = model_drop.fit(X_train, Y_train, batch_size=batch_size, epochs=nb_epoch, verbose=1, validation_data=(X_test, Y_test))\n",
        "\n",
        "# we will get val_loss and val_acc only when you pass the paramter validation_data\n",
        "# val_loss : validation loss\n",
        "# val_acc : validation accuracy\n",
        "\n",
        "# loss : training loss\n",
        "# acc : train accuracy\n",
        "# for each key in histrory.histrory we will have a list of length equal to number of epochs\n",
        "\n",
        "vy = history.history['val_loss']\n",
        "ty = history.history['loss']\n",
        "plt_dynamic(x, vy, ty, ax)"
      ],
      "execution_count": 10,
      "outputs": [
        {
          "output_type": "stream",
          "text": [
            "Test score: 0.041687695559760325\n",
            "Test accuracy: 0.9866\n"
          ],
          "name": "stdout"
        },
        {
          "output_type": "display_data",
          "data": {
            "image/png": "[encoded data removed]",
            "text/plain": [
              "<Figure size 432x288 with 1 Axes>"
            ]
          },
          "metadata": {
            "tags": []
          }
        }
      ]
    },
    {
      "cell_type": "markdown",
      "metadata": {
        "id": "r3vlSN1XpIGB",
        "colab_type": "text"
      },
      "source": [
        "<h3> Model 2 : 3 conv + 2 maxpool + BN + dropout + 3 dense layer + adam optimizer </h3>"
      ]
    },
    {
      "cell_type": "code",
      "metadata": {
        "id": "VfhWorhLi-up",
        "colab_type": "code",
        "colab": {
          "base_uri": "https://localhost:8080/",
          "height": 527
        },
        "outputId": "5c3b04fc-9d71-4429-9b7f-5f6c3f00af28"
      },
      "source": [
        "from keras.layers.normalization import BatchNormalization\n",
        "model_1 = Sequential()\n",
        "model_1.add(Conv2D(4, kernel_size=(3, 3),activation='relu',padding='same',input_shape=input_shape))\n",
        "model_1.add(MaxPooling2D(pool_size=(2, 2),strides=2))\n",
        "model_1.add(Conv2D(8, (3, 3), activation='relu'))\n",
        "model_1.add(MaxPooling2D(pool_size=(2, 2),strides=2))\n",
        "model_1.add(Conv2D(12, (3, 3), activation='relu'))\n",
        "model_1.add(Flatten())\n",
        "model_1.add(Dense(84, activation='relu'))\n",
        "model_1.add(BatchNormalization())\n",
        "model_1.add(Dropout(0.5))\n",
        "model_1.add(Dense(120, activation='relu'))\n",
        "model_1.add(Dense(num_classes, activation='softmax'))\n",
        "model_1.compile(loss=keras.losses.categorical_crossentropy,\n",
        "              optimizer=keras.optimizers.adam(),\n",
        "              metrics=['accuracy'])\n",
        "# this will train the model and validate the model in this fit function\n",
        "model_1.summary()"
      ],
      "execution_count": 12,
      "outputs": [
        {
          "output_type": "stream",
          "text": [
            "Model: \"sequential_4\"\n",
            "_________________________________________________________________\n",
            "Layer (type)                 Output Shape              Param #   \n",
            "=================================================================\n",
            "conv2d_8 (Conv2D)            (None, 28, 28, 4)         40        \n",
            "_________________________________________________________________\n",
            "max_pooling2d_6 (MaxPooling2 (None, 14, 14, 4)         0         \n",
            "_________________________________________________________________\n",
            "conv2d_9 (Conv2D)            (None, 12, 12, 8)         296       \n",
            "_________________________________________________________________\n",
            "max_pooling2d_7 (MaxPooling2 (None, 6, 6, 8)           0         \n",
            "_________________________________________________________________\n",
            "conv2d_10 (Conv2D)           (None, 4, 4, 12)          876       \n",
            "_________________________________________________________________\n",
            "flatten_4 (Flatten)          (None, 192)               0         \n",
            "_________________________________________________________________\n",
            "dense_6 (Dense)              (None, 84)                16212     \n",
            "_________________________________________________________________\n",
            "batch_normalization_1 (Batch (None, 84)                336       \n",
            "_________________________________________________________________\n",
            "dropout_4 (Dropout)          (None, 84)                0         \n",
            "_________________________________________________________________\n",
            "dense_7 (Dense)              (None, 120)               10200     \n",
            "_________________________________________________________________\n",
            "dense_8 (Dense)              (None, 10)                1210      \n",
            "=================================================================\n",
            "Total params: 29,170\n",
            "Trainable params: 29,002\n",
            "Non-trainable params: 168\n",
            "_________________________________________________________________\n"
          ],
          "name": "stdout"
        }
      ]
    },
    {
      "cell_type": "code",
      "metadata": {
        "id": "v3ldYoKzpI6Z",
        "colab_type": "code",
        "colab": {
          "base_uri": "https://localhost:8080/",
          "height": 476
        },
        "outputId": "95a96750-902d-4e92-9a22-2e65c59016c1"
      },
      "source": [
        "history=model_1.fit(x_train, y_train,\n",
        "                  batch_size=batch_size,\n",
        "                  epochs=epochs,\n",
        "                  verbose=1,\n",
        "                  validation_data=(x_test, y_test))\n",
        "score_1 = model_1.evaluate(x_test, y_test, verbose=0)\n",
        "print('Test loss:', score_1[0])\n",
        "print('Test accuracy:', score_1[1])"
      ],
      "execution_count": 17,
      "outputs": [
        {
          "output_type": "stream",
          "text": [
            "Train on 60000 samples, validate on 10000 samples\n",
            "Epoch 1/12\n",
            "60000/60000 [==============================] - 23s 392us/step - loss: 0.0519 - acc: 0.9840 - val_loss: 0.0415 - val_acc: 0.9861\n",
            "Epoch 2/12\n",
            "60000/60000 [==============================] - 23s 390us/step - loss: 0.0483 - acc: 0.9849 - val_loss: 0.0525 - val_acc: 0.9833\n",
            "Epoch 3/12\n",
            "60000/60000 [==============================] - 23s 375us/step - loss: 0.0474 - acc: 0.9854 - val_loss: 0.0393 - val_acc: 0.9872\n",
            "Epoch 4/12\n",
            "60000/60000 [==============================] - 23s 382us/step - loss: 0.0463 - acc: 0.9856 - val_loss: 0.0422 - val_acc: 0.9864\n",
            "Epoch 5/12\n",
            "60000/60000 [==============================] - 23s 379us/step - loss: 0.0455 - acc: 0.9859 - val_loss: 0.0392 - val_acc: 0.9869\n",
            "Epoch 6/12\n",
            "60000/60000 [==============================] - 22s 370us/step - loss: 0.0445 - acc: 0.9863 - val_loss: 0.0366 - val_acc: 0.9874\n",
            "Epoch 7/12\n",
            "60000/60000 [==============================] - 23s 379us/step - loss: 0.0429 - acc: 0.9863 - val_loss: 0.0317 - val_acc: 0.9902\n",
            "Epoch 8/12\n",
            "60000/60000 [==============================] - 23s 392us/step - loss: 0.0429 - acc: 0.9865 - val_loss: 0.0312 - val_acc: 0.9902\n",
            "Epoch 9/12\n",
            "60000/60000 [==============================] - 23s 383us/step - loss: 0.0414 - acc: 0.9873 - val_loss: 0.0374 - val_acc: 0.9884\n",
            "Epoch 10/12\n",
            "60000/60000 [==============================] - 22s 369us/step - loss: 0.0396 - acc: 0.9870 - val_loss: 0.0335 - val_acc: 0.9897\n",
            "Epoch 11/12\n",
            "60000/60000 [==============================] - 22s 375us/step - loss: 0.0404 - acc: 0.9875 - val_loss: 0.0376 - val_acc: 0.9895\n",
            "Epoch 12/12\n",
            "60000/60000 [==============================] - 23s 376us/step - loss: 0.0376 - acc: 0.9877 - val_loss: 0.0417 - val_acc: 0.9879\n",
            "Test loss: 0.04166760154593212\n",
            "Test accuracy: 0.9879\n"
          ],
          "name": "stdout"
        }
      ]
    },
    {
      "cell_type": "code",
      "metadata": {
        "id": "G50v50kipJGF",
        "colab_type": "code",
        "colab": {
          "base_uri": "https://localhost:8080/",
          "height": 313
        },
        "outputId": "6d66acbf-49c4-42b8-8d16-4de33cb38220"
      },
      "source": [
        "score_1 = model_1.evaluate(x_test, y_test, verbose=0) \n",
        "print('Test score:', score_1[0]) \n",
        "print('Test accuracy:', score_1[1])\n",
        "\n",
        "fig,ax = plt.subplots(1,1)\n",
        "ax.set_xlabel('epoch') ; ax.set_ylabel('Categorical Crossentropy Loss')\n",
        "\n",
        "# list of epoch numbers\n",
        "x = list(range(1,epochs+1))\n",
        "\n",
        "# print(history.history.keys())\n",
        "# dict_keys(['val_loss', 'val_acc', 'loss', 'acc'])\n",
        "# history = model_drop.fit(X_train, Y_train, batch_size=batch_size, epochs=nb_epoch, verbose=1, validation_data=(X_test, Y_test))\n",
        "\n",
        "# we will get val_loss and val_acc only when you pass the paramter validation_data\n",
        "# val_loss : validation loss\n",
        "# val_acc : validation accuracy\n",
        "\n",
        "# loss : training loss\n",
        "# acc : train accuracy\n",
        "# for each key in histrory.histrory we will have a list of length equal to number of epochs\n",
        "\n",
        "vy = history.history['val_loss']\n",
        "ty = history.history['loss']\n",
        "plt_dynamic(x, vy, ty, ax)"
      ],
      "execution_count": 18,
      "outputs": [
        {
          "output_type": "stream",
          "text": [
            "Test score: 0.04166760154593212\n",
            "Test accuracy: 0.9879\n"
          ],
          "name": "stdout"
        },
        {
          "output_type": "display_data",
          "data": {
            "image/png": "[encoded data removed]",
            "text/plain": [
              "<Figure size 432x288 with 1 Axes>"
            ]
          },
          "metadata": {
            "tags": []
          }
        }
      ]
    },
    {
      "cell_type": "markdown",
      "metadata": {
        "id": "_8xkeVIfvVIA",
        "colab_type": "text"
      },
      "source": [
        "<h3> Model 3 : 5 conv + 3 maxpool + 2 BN + 2 dropout + 3 dense layer + adam optimizer </h3>"
      ]
    },
    {
      "cell_type": "code",
      "metadata": {
        "id": "980dwoiqpJPL",
        "colab_type": "code",
        "colab": {
          "base_uri": "https://localhost:8080/",
          "height": 697
        },
        "outputId": "654070a8-d073-4704-eae6-bb273cae87df"
      },
      "source": [
        "model_2 = Sequential()\n",
        "model_2.add(Conv2D(4, kernel_size=(3, 3),activation='relu',padding='same',input_shape=input_shape))\n",
        "model_2.add(MaxPooling2D(pool_size=(2, 2),strides=2))\n",
        "model_2.add(Conv2D(8, (3, 3), activation='relu', padding='same'))\n",
        "model_2.add(MaxPooling2D(pool_size=(2, 2),strides=2))\n",
        "model_2.add(Conv2D(12, (3, 3), activation='relu', padding='same'))\n",
        "model_2.add(MaxPooling2D(pool_size=(2, 2),strides=2))\n",
        "model_2.add(Conv2D(48, (3, 3), activation='relu', padding='same'))\n",
        "model_2.add(BatchNormalization())\n",
        "model_2.add(Dropout(0.5))\n",
        "model_2.add(Conv2D(120, (3, 3), activation='relu', padding='same'))\n",
        "model_2.add(BatchNormalization())\n",
        "model_2.add(Dropout(0.5))\n",
        "model_2.add(Flatten())\n",
        "model_2.add(Dense(84, activation='relu'))\n",
        "model_2.add(Dense(120, activation='relu'))\n",
        "model_2.add(Dense(num_classes, activation='softmax'))\n",
        "model_2.compile(loss=keras.losses.categorical_crossentropy,\n",
        "              optimizer=keras.optimizers.adam(),\n",
        "              metrics=['accuracy'])\n",
        "# this will train the model and validate the model in this fit function\n",
        "model_2.summary()"
      ],
      "execution_count": 29,
      "outputs": [
        {
          "output_type": "stream",
          "text": [
            "Model: \"sequential_9\"\n",
            "_________________________________________________________________\n",
            "Layer (type)                 Output Shape              Param #   \n",
            "=================================================================\n",
            "conv2d_28 (Conv2D)           (None, 28, 28, 4)         40        \n",
            "_________________________________________________________________\n",
            "max_pooling2d_20 (MaxPooling (None, 14, 14, 4)         0         \n",
            "_________________________________________________________________\n",
            "conv2d_29 (Conv2D)           (None, 14, 14, 8)         296       \n",
            "_________________________________________________________________\n",
            "max_pooling2d_21 (MaxPooling (None, 7, 7, 8)           0         \n",
            "_________________________________________________________________\n",
            "conv2d_30 (Conv2D)           (None, 7, 7, 12)          876       \n",
            "_________________________________________________________________\n",
            "max_pooling2d_22 (MaxPooling (None, 3, 3, 12)          0         \n",
            "_________________________________________________________________\n",
            "conv2d_31 (Conv2D)           (None, 3, 3, 48)          5232      \n",
            "_________________________________________________________________\n",
            "batch_normalization_3 (Batch (None, 3, 3, 48)          192       \n",
            "_________________________________________________________________\n",
            "dropout_6 (Dropout)          (None, 3, 3, 48)          0         \n",
            "_________________________________________________________________\n",
            "conv2d_32 (Conv2D)           (None, 3, 3, 120)         51960     \n",
            "_________________________________________________________________\n",
            "batch_normalization_4 (Batch (None, 3, 3, 120)         480       \n",
            "_________________________________________________________________\n",
            "dropout_7 (Dropout)          (None, 3, 3, 120)         0         \n",
            "_________________________________________________________________\n",
            "flatten_6 (Flatten)          (None, 1080)              0         \n",
            "_________________________________________________________________\n",
            "dense_12 (Dense)             (None, 84)                90804     \n",
            "_________________________________________________________________\n",
            "dense_13 (Dense)             (None, 120)               10200     \n",
            "_________________________________________________________________\n",
            "dense_14 (Dense)             (None, 10)                1210      \n",
            "=================================================================\n",
            "Total params: 161,290\n",
            "Trainable params: 160,954\n",
            "Non-trainable params: 336\n",
            "_________________________________________________________________\n"
          ],
          "name": "stdout"
        }
      ]
    },
    {
      "cell_type": "code",
      "metadata": {
        "id": "qfdSfNx0pJUq",
        "colab_type": "code",
        "colab": {
          "base_uri": "https://localhost:8080/",
          "height": 476
        },
        "outputId": "809bc465-3d61-4c28-c9c4-c352fb4cb61e"
      },
      "source": [
        "history=model_2.fit(x_train, y_train,\n",
        "                  batch_size=batch_size,\n",
        "                  epochs=epochs,\n",
        "                  verbose=1,\n",
        "                  validation_data=(x_test, y_test))\n",
        "score_2 = model_2.evaluate(x_test, y_test, verbose=0)\n",
        "print('Test loss:', score_2[0])\n",
        "print('Test accuracy:', score_2[1])"
      ],
      "execution_count": 30,
      "outputs": [
        {
          "output_type": "stream",
          "text": [
            "Train on 60000 samples, validate on 10000 samples\n",
            "Epoch 1/12\n",
            "60000/60000 [==============================] - 40s 668us/step - loss: 0.4384 - acc: 0.8562 - val_loss: 0.1255 - val_acc: 0.9594\n",
            "Epoch 2/12\n",
            "60000/60000 [==============================] - 38s 636us/step - loss: 0.1624 - acc: 0.9484 - val_loss: 0.1015 - val_acc: 0.9688\n",
            "Epoch 3/12\n",
            "60000/60000 [==============================] - 38s 640us/step - loss: 0.1184 - acc: 0.9618 - val_loss: 0.0709 - val_acc: 0.9783\n",
            "Epoch 4/12\n",
            "60000/60000 [==============================] - 38s 628us/step - loss: 0.1005 - acc: 0.9685 - val_loss: 0.0641 - val_acc: 0.9808\n",
            "Epoch 5/12\n",
            "60000/60000 [==============================] - 37s 623us/step - loss: 0.0869 - acc: 0.9728 - val_loss: 0.0617 - val_acc: 0.9805\n",
            "Epoch 6/12\n",
            "60000/60000 [==============================] - 38s 632us/step - loss: 0.0783 - acc: 0.9748 - val_loss: 0.0545 - val_acc: 0.9838\n",
            "Epoch 7/12\n",
            "60000/60000 [==============================] - 38s 633us/step - loss: 0.0714 - acc: 0.9773 - val_loss: 0.0479 - val_acc: 0.9855\n",
            "Epoch 8/12\n",
            "60000/60000 [==============================] - 38s 631us/step - loss: 0.0656 - acc: 0.9792 - val_loss: 0.0598 - val_acc: 0.9830\n",
            "Epoch 9/12\n",
            "60000/60000 [==============================] - 38s 638us/step - loss: 0.0620 - acc: 0.9801 - val_loss: 0.0716 - val_acc: 0.9782\n",
            "Epoch 10/12\n",
            "60000/60000 [==============================] - 38s 635us/step - loss: 0.0581 - acc: 0.9815 - val_loss: 0.0465 - val_acc: 0.9868\n",
            "Epoch 11/12\n",
            "60000/60000 [==============================] - 39s 645us/step - loss: 0.0566 - acc: 0.9818 - val_loss: 0.0420 - val_acc: 0.9870\n",
            "Epoch 12/12\n",
            "60000/60000 [==============================] - 38s 633us/step - loss: 0.0527 - acc: 0.9835 - val_loss: 0.0447 - val_acc: 0.9878\n",
            "Test loss: 0.04472449148670421\n",
            "Test accuracy: 0.9878\n"
          ],
          "name": "stdout"
        }
      ]
    },
    {
      "cell_type": "code",
      "metadata": {
        "id": "T4849BgJpJba",
        "colab_type": "code",
        "colab": {
          "base_uri": "https://localhost:8080/",
          "height": 313
        },
        "outputId": "fbf416bb-0ab7-47a1-ecb7-21ccc2820d88"
      },
      "source": [
        "score_2 = model_2.evaluate(x_test, y_test, verbose=0) \n",
        "print('Test score:', score_2[0]) \n",
        "print('Test accuracy:', score_2[1])\n",
        "\n",
        "fig,ax = plt.subplots(1,1)\n",
        "ax.set_xlabel('epoch') ; ax.set_ylabel('Categorical Crossentropy Loss')\n",
        "\n",
        "# list of epoch numbers\n",
        "x = list(range(1,epochs+1))\n",
        "\n",
        "# print(history.history.keys())\n",
        "# dict_keys(['val_loss', 'val_acc', 'loss', 'acc'])\n",
        "# history = model_drop.fit(X_train, Y_train, batch_size=batch_size, epochs=nb_epoch, verbose=1, validation_data=(X_test, Y_test))\n",
        "\n",
        "# we will get val_loss and val_acc only when you pass the paramter validation_data\n",
        "# val_loss : validation loss\n",
        "# val_acc : validation accuracy\n",
        "\n",
        "# loss : training loss\n",
        "# acc : train accuracy\n",
        "# for each key in histrory.histrory we will have a list of length equal to number of epochs\n",
        "\n",
        "vy = history.history['val_loss']\n",
        "ty = history.history['loss']\n",
        "plt_dynamic(x, vy, ty, ax)"
      ],
      "execution_count": 31,
      "outputs": [
        {
          "output_type": "stream",
          "text": [
            "Test score: 0.04472449148670421\n",
            "Test accuracy: 0.9878\n"
          ],
          "name": "stdout"
        },
        {
          "output_type": "display_data",
          "data": {
            "image/png": "[encoded data removed]",
            "text/plain": [
              "<Figure size 432x288 with 1 Axes>"
            ]
          },
          "metadata": {
            "tags": []
          }
        }
      ]
    },
    {
      "cell_type": "code",
      "metadata": {
        "id": "2XlGag6jpJe1",
        "colab_type": "code",
        "colab": {}
      },
      "source": [
        ""
      ],
      "execution_count": 0,
      "outputs": []
    },
    {
      "cell_type": "code",
      "metadata": {
        "id": "X24oL5i0pJSV",
        "colab_type": "code",
        "colab": {}
      },
      "source": [
        ""
      ],
      "execution_count": 0,
      "outputs": []
    }
  ]
}