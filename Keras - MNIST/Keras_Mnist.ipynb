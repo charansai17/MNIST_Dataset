{
  "nbformat": 4,
  "nbformat_minor": 0,
  "metadata": {
    "colab": {
      "name": "Copy of Keras_Mnist.ipynb",
      "provenance": []
    },
    "kernelspec": {
      "display_name": "Python 3",
      "language": "python",
      "name": "python3"
    },
    "accelerator": "GPU"
  },
  "cells": [
    {
      "cell_type": "markdown",
      "metadata": {
        "id": "UTJmsXnXQKbG",
        "colab_type": "text"
      },
      "source": [
        "## Keras -- MLPs on MNIST"
      ]
    },
    {
      "cell_type": "code",
      "metadata": {
        "id": "2UILABPAQKbH",
        "colab_type": "code",
        "colab": {}
      },
      "source": [
        "# if you keras is not using tensorflow as backend set \"KERAS_BACKEND=tensorflow\" use this command\n",
        "from keras.utils import np_utils \n",
        "from keras.datasets import mnist \n",
        "import seaborn as sns\n",
        "from keras.initializers import RandomNormal"
      ],
      "execution_count": 0,
      "outputs": []
    },
    {
      "cell_type": "code",
      "metadata": {
        "id": "lOO-TM_7QKbM",
        "colab_type": "code",
        "colab": {}
      },
      "source": [
        "%matplotlib notebook\n",
        "import matplotlib.pyplot as plt\n",
        "import numpy as np\n",
        "import time\n",
        "# https://gist.github.com/greydanus/f6eee59eaf1d90fcb3b534a25362cea4\n",
        "# https://stackoverflow.com/a/14434334\n",
        "# this function is used to update the plots for each epoch and error\n",
        "def plt_dynamic(x, vy, ty, ax, colors=['b']):\n",
        "    ax.plot(x, vy, 'b', label=\"Validation Loss\")\n",
        "    ax.plot(x, ty, 'r', label=\"Train Loss\")\n",
        "    plt.legend()\n",
        "    plt.grid()\n",
        "    fig.canvas.draw()"
      ],
      "execution_count": 0,
      "outputs": []
    },
    {
      "cell_type": "code",
      "metadata": {
        "id": "dtYksmVhhV2i",
        "colab_type": "code",
        "colab": {}
      },
      "source": [
        "%matplotlib inline"
      ],
      "execution_count": 0,
      "outputs": []
    },
    {
      "cell_type": "code",
      "metadata": {
        "id": "TKmYKnibQKbQ",
        "colab_type": "code",
        "colab": {}
      },
      "source": [
        "# the data, shuffled and split between train and test sets \n",
        "(X_train, y_train), (X_test, y_test) = mnist.load_data()"
      ],
      "execution_count": 0,
      "outputs": []
    },
    {
      "cell_type": "code",
      "metadata": {
        "id": "CCwnZae-QKbT",
        "colab_type": "code",
        "outputId": "67b35a11-6e35-4b62-854b-8e0e38c54aeb",
        "colab": {
          "base_uri": "https://localhost:8080/",
          "height": 51
        }
      },
      "source": [
        "print(\"Number of training examples :\", X_train.shape[0], \"and each image is of shape (%d, %d)\"%(X_train.shape[1], X_train.shape[2]))\n",
        "print(\"Number of training examples :\", X_test.shape[0], \"and each image is of shape (%d, %d)\"%(X_test.shape[1], X_test.shape[2]))"
      ],
      "execution_count": 6,
      "outputs": [
        {
          "output_type": "stream",
          "text": [
            "Number of training examples : 60000 and each image is of shape (28, 28)\n",
            "Number of training examples : 10000 and each image is of shape (28, 28)\n"
          ],
          "name": "stdout"
        }
      ]
    },
    {
      "cell_type": "code",
      "metadata": {
        "id": "BlotuCmoQKbW",
        "colab_type": "code",
        "colab": {}
      },
      "source": [
        "# if you observe the input shape its 2 dimensional vector\n",
        "# for each image we have a (28*28) vector\n",
        "# we will convert the (28*28) vector into single dimensional vector of 1 * 784 \n",
        "\n",
        "X_train = X_train.reshape(X_train.shape[0], X_train.shape[1]*X_train.shape[2]) \n",
        "X_test = X_test.reshape(X_test.shape[0], X_test.shape[1]*X_test.shape[2]) "
      ],
      "execution_count": 0,
      "outputs": []
    },
    {
      "cell_type": "code",
      "metadata": {
        "id": "8JvpNJy4QKbY",
        "colab_type": "code",
        "outputId": "c7a7df31-341f-4496-99a4-0ae13a76c13b",
        "colab": {
          "base_uri": "https://localhost:8080/",
          "height": 51
        }
      },
      "source": [
        "# after converting the input images from 3d to 2d vectors\n",
        "\n",
        "print(\"Number of training examples :\", X_train.shape[0], \"and each image is of shape (%d)\"%(X_train.shape[1]))\n",
        "print(\"Number of training examples :\", X_test.shape[0], \"and each image is of shape (%d)\"%(X_test.shape[1]))"
      ],
      "execution_count": 8,
      "outputs": [
        {
          "output_type": "stream",
          "text": [
            "Number of training examples : 60000 and each image is of shape (784)\n",
            "Number of training examples : 10000 and each image is of shape (784)\n"
          ],
          "name": "stdout"
        }
      ]
    },
    {
      "cell_type": "code",
      "metadata": {
        "id": "qvuaHDk0QKbb",
        "colab_type": "code",
        "outputId": "42a5b15f-8f80-4dee-cbb4-58ef311c4ffe",
        "colab": {
          "base_uri": "https://localhost:8080/",
          "height": 765
        }
      },
      "source": [
        "# An example data point\n",
        "print(X_train[0])"
      ],
      "execution_count": 9,
      "outputs": [
        {
          "output_type": "stream",
          "text": [
            "[  0   0   0   0   0   0   0   0   0   0   0   0   0   0   0   0   0   0\n",
            "   0   0   0   0   0   0   0   0   0   0   0   0   0   0   0   0   0   0\n",
            "   0   0   0   0   0   0   0   0   0   0   0   0   0   0   0   0   0   0\n",
            "   0   0   0   0   0   0   0   0   0   0   0   0   0   0   0   0   0   0\n",
            "   0   0   0   0   0   0   0   0   0   0   0   0   0   0   0   0   0   0\n",
            "   0   0   0   0   0   0   0   0   0   0   0   0   0   0   0   0   0   0\n",
            "   0   0   0   0   0   0   0   0   0   0   0   0   0   0   0   0   0   0\n",
            "   0   0   0   0   0   0   0   0   0   0   0   0   0   0   0   0   0   0\n",
            "   0   0   0   0   0   0   0   0   3  18  18  18 126 136 175  26 166 255\n",
            " 247 127   0   0   0   0   0   0   0   0   0   0   0   0  30  36  94 154\n",
            " 170 253 253 253 253 253 225 172 253 242 195  64   0   0   0   0   0   0\n",
            "   0   0   0   0   0  49 238 253 253 253 253 253 253 253 253 251  93  82\n",
            "  82  56  39   0   0   0   0   0   0   0   0   0   0   0   0  18 219 253\n",
            " 253 253 253 253 198 182 247 241   0   0   0   0   0   0   0   0   0   0\n",
            "   0   0   0   0   0   0   0   0  80 156 107 253 253 205  11   0  43 154\n",
            "   0   0   0   0   0   0   0   0   0   0   0   0   0   0   0   0   0   0\n",
            "   0  14   1 154 253  90   0   0   0   0   0   0   0   0   0   0   0   0\n",
            "   0   0   0   0   0   0   0   0   0   0   0   0   0 139 253 190   2   0\n",
            "   0   0   0   0   0   0   0   0   0   0   0   0   0   0   0   0   0   0\n",
            "   0   0   0   0   0  11 190 253  70   0   0   0   0   0   0   0   0   0\n",
            "   0   0   0   0   0   0   0   0   0   0   0   0   0   0   0   0  35 241\n",
            " 225 160 108   1   0   0   0   0   0   0   0   0   0   0   0   0   0   0\n",
            "   0   0   0   0   0   0   0   0   0  81 240 253 253 119  25   0   0   0\n",
            "   0   0   0   0   0   0   0   0   0   0   0   0   0   0   0   0   0   0\n",
            "   0   0  45 186 253 253 150  27   0   0   0   0   0   0   0   0   0   0\n",
            "   0   0   0   0   0   0   0   0   0   0   0   0   0  16  93 252 253 187\n",
            "   0   0   0   0   0   0   0   0   0   0   0   0   0   0   0   0   0   0\n",
            "   0   0   0   0   0   0   0 249 253 249  64   0   0   0   0   0   0   0\n",
            "   0   0   0   0   0   0   0   0   0   0   0   0   0   0  46 130 183 253\n",
            " 253 207   2   0   0   0   0   0   0   0   0   0   0   0   0   0   0   0\n",
            "   0   0   0   0  39 148 229 253 253 253 250 182   0   0   0   0   0   0\n",
            "   0   0   0   0   0   0   0   0   0   0   0   0  24 114 221 253 253 253\n",
            " 253 201  78   0   0   0   0   0   0   0   0   0   0   0   0   0   0   0\n",
            "   0   0  23  66 213 253 253 253 253 198  81   2   0   0   0   0   0   0\n",
            "   0   0   0   0   0   0   0   0   0   0  18 171 219 253 253 253 253 195\n",
            "  80   9   0   0   0   0   0   0   0   0   0   0   0   0   0   0   0   0\n",
            "  55 172 226 253 253 253 253 244 133  11   0   0   0   0   0   0   0   0\n",
            "   0   0   0   0   0   0   0   0   0   0 136 253 253 253 212 135 132  16\n",
            "   0   0   0   0   0   0   0   0   0   0   0   0   0   0   0   0   0   0\n",
            "   0   0   0   0   0   0   0   0   0   0   0   0   0   0   0   0   0   0\n",
            "   0   0   0   0   0   0   0   0   0   0   0   0   0   0   0   0   0   0\n",
            "   0   0   0   0   0   0   0   0   0   0   0   0   0   0   0   0   0   0\n",
            "   0   0   0   0   0   0   0   0   0   0   0   0   0   0   0   0   0   0\n",
            "   0   0   0   0   0   0   0   0   0   0]\n"
          ],
          "name": "stdout"
        }
      ]
    },
    {
      "cell_type": "code",
      "metadata": {
        "id": "lfohtdKPQKbd",
        "colab_type": "code",
        "colab": {}
      },
      "source": [
        "# if we observe the above matrix each cell is having a value between 0-255\n",
        "# before we move to apply machine learning algorithms lets try to normalize the data\n",
        "# X => (X - Xmin)/(Xmax-Xmin) = X/255\n",
        "\n",
        "X_train = X_train/255\n",
        "X_test = X_test/255"
      ],
      "execution_count": 0,
      "outputs": []
    },
    {
      "cell_type": "code",
      "metadata": {
        "id": "4C-dmsXJQKbf",
        "colab_type": "code",
        "outputId": "5a94d215-2cd7-4bd3-db63-566600dec62c",
        "colab": {
          "base_uri": "https://localhost:8080/",
          "height": 1000
        }
      },
      "source": [
        "# example data point after normlizing\n",
        "print(X_train[0])"
      ],
      "execution_count": 11,
      "outputs": [
        {
          "output_type": "stream",
          "text": [
            "[0.         0.         0.         0.         0.         0.\n",
            " 0.         0.         0.         0.         0.         0.\n",
            " 0.         0.         0.         0.         0.         0.\n",
            " 0.         0.         0.         0.         0.         0.\n",
            " 0.         0.         0.         0.         0.         0.\n",
            " 0.         0.         0.         0.         0.         0.\n",
            " 0.         0.         0.         0.         0.         0.\n",
            " 0.         0.         0.         0.         0.         0.\n",
            " 0.         0.         0.         0.         0.         0.\n",
            " 0.         0.         0.         0.         0.         0.\n",
            " 0.         0.         0.         0.         0.         0.\n",
            " 0.         0.         0.         0.         0.         0.\n",
            " 0.         0.         0.         0.         0.         0.\n",
            " 0.         0.         0.         0.         0.         0.\n",
            " 0.         0.         0.         0.         0.         0.\n",
            " 0.         0.         0.         0.         0.         0.\n",
            " 0.         0.         0.         0.         0.         0.\n",
            " 0.         0.         0.         0.         0.         0.\n",
            " 0.         0.         0.         0.         0.         0.\n",
            " 0.         0.         0.         0.         0.         0.\n",
            " 0.         0.         0.         0.         0.         0.\n",
            " 0.         0.         0.         0.         0.         0.\n",
            " 0.         0.         0.         0.         0.         0.\n",
            " 0.         0.         0.         0.         0.         0.\n",
            " 0.         0.         0.         0.         0.         0.\n",
            " 0.         0.         0.01176471 0.07058824 0.07058824 0.07058824\n",
            " 0.49411765 0.53333333 0.68627451 0.10196078 0.65098039 1.\n",
            " 0.96862745 0.49803922 0.         0.         0.         0.\n",
            " 0.         0.         0.         0.         0.         0.\n",
            " 0.         0.         0.11764706 0.14117647 0.36862745 0.60392157\n",
            " 0.66666667 0.99215686 0.99215686 0.99215686 0.99215686 0.99215686\n",
            " 0.88235294 0.6745098  0.99215686 0.94901961 0.76470588 0.25098039\n",
            " 0.         0.         0.         0.         0.         0.\n",
            " 0.         0.         0.         0.         0.         0.19215686\n",
            " 0.93333333 0.99215686 0.99215686 0.99215686 0.99215686 0.99215686\n",
            " 0.99215686 0.99215686 0.99215686 0.98431373 0.36470588 0.32156863\n",
            " 0.32156863 0.21960784 0.15294118 0.         0.         0.\n",
            " 0.         0.         0.         0.         0.         0.\n",
            " 0.         0.         0.         0.07058824 0.85882353 0.99215686\n",
            " 0.99215686 0.99215686 0.99215686 0.99215686 0.77647059 0.71372549\n",
            " 0.96862745 0.94509804 0.         0.         0.         0.\n",
            " 0.         0.         0.         0.         0.         0.\n",
            " 0.         0.         0.         0.         0.         0.\n",
            " 0.         0.         0.31372549 0.61176471 0.41960784 0.99215686\n",
            " 0.99215686 0.80392157 0.04313725 0.         0.16862745 0.60392157\n",
            " 0.         0.         0.         0.         0.         0.\n",
            " 0.         0.         0.         0.         0.         0.\n",
            " 0.         0.         0.         0.         0.         0.\n",
            " 0.         0.05490196 0.00392157 0.60392157 0.99215686 0.35294118\n",
            " 0.         0.         0.         0.         0.         0.\n",
            " 0.         0.         0.         0.         0.         0.\n",
            " 0.         0.         0.         0.         0.         0.\n",
            " 0.         0.         0.         0.         0.         0.\n",
            " 0.         0.54509804 0.99215686 0.74509804 0.00784314 0.\n",
            " 0.         0.         0.         0.         0.         0.\n",
            " 0.         0.         0.         0.         0.         0.\n",
            " 0.         0.         0.         0.         0.         0.\n",
            " 0.         0.         0.         0.         0.         0.04313725\n",
            " 0.74509804 0.99215686 0.2745098  0.         0.         0.\n",
            " 0.         0.         0.         0.         0.         0.\n",
            " 0.         0.         0.         0.         0.         0.\n",
            " 0.         0.         0.         0.         0.         0.\n",
            " 0.         0.         0.         0.         0.1372549  0.94509804\n",
            " 0.88235294 0.62745098 0.42352941 0.00392157 0.         0.\n",
            " 0.         0.         0.         0.         0.         0.\n",
            " 0.         0.         0.         0.         0.         0.\n",
            " 0.         0.         0.         0.         0.         0.\n",
            " 0.         0.         0.         0.31764706 0.94117647 0.99215686\n",
            " 0.99215686 0.46666667 0.09803922 0.         0.         0.\n",
            " 0.         0.         0.         0.         0.         0.\n",
            " 0.         0.         0.         0.         0.         0.\n",
            " 0.         0.         0.         0.         0.         0.\n",
            " 0.         0.         0.17647059 0.72941176 0.99215686 0.99215686\n",
            " 0.58823529 0.10588235 0.         0.         0.         0.\n",
            " 0.         0.         0.         0.         0.         0.\n",
            " 0.         0.         0.         0.         0.         0.\n",
            " 0.         0.         0.         0.         0.         0.\n",
            " 0.         0.0627451  0.36470588 0.98823529 0.99215686 0.73333333\n",
            " 0.         0.         0.         0.         0.         0.\n",
            " 0.         0.         0.         0.         0.         0.\n",
            " 0.         0.         0.         0.         0.         0.\n",
            " 0.         0.         0.         0.         0.         0.\n",
            " 0.         0.97647059 0.99215686 0.97647059 0.25098039 0.\n",
            " 0.         0.         0.         0.         0.         0.\n",
            " 0.         0.         0.         0.         0.         0.\n",
            " 0.         0.         0.         0.         0.         0.\n",
            " 0.         0.         0.18039216 0.50980392 0.71764706 0.99215686\n",
            " 0.99215686 0.81176471 0.00784314 0.         0.         0.\n",
            " 0.         0.         0.         0.         0.         0.\n",
            " 0.         0.         0.         0.         0.         0.\n",
            " 0.         0.         0.         0.         0.15294118 0.58039216\n",
            " 0.89803922 0.99215686 0.99215686 0.99215686 0.98039216 0.71372549\n",
            " 0.         0.         0.         0.         0.         0.\n",
            " 0.         0.         0.         0.         0.         0.\n",
            " 0.         0.         0.         0.         0.         0.\n",
            " 0.09411765 0.44705882 0.86666667 0.99215686 0.99215686 0.99215686\n",
            " 0.99215686 0.78823529 0.30588235 0.         0.         0.\n",
            " 0.         0.         0.         0.         0.         0.\n",
            " 0.         0.         0.         0.         0.         0.\n",
            " 0.         0.         0.09019608 0.25882353 0.83529412 0.99215686\n",
            " 0.99215686 0.99215686 0.99215686 0.77647059 0.31764706 0.00784314\n",
            " 0.         0.         0.         0.         0.         0.\n",
            " 0.         0.         0.         0.         0.         0.\n",
            " 0.         0.         0.         0.         0.07058824 0.67058824\n",
            " 0.85882353 0.99215686 0.99215686 0.99215686 0.99215686 0.76470588\n",
            " 0.31372549 0.03529412 0.         0.         0.         0.\n",
            " 0.         0.         0.         0.         0.         0.\n",
            " 0.         0.         0.         0.         0.         0.\n",
            " 0.21568627 0.6745098  0.88627451 0.99215686 0.99215686 0.99215686\n",
            " 0.99215686 0.95686275 0.52156863 0.04313725 0.         0.\n",
            " 0.         0.         0.         0.         0.         0.\n",
            " 0.         0.         0.         0.         0.         0.\n",
            " 0.         0.         0.         0.         0.53333333 0.99215686\n",
            " 0.99215686 0.99215686 0.83137255 0.52941176 0.51764706 0.0627451\n",
            " 0.         0.         0.         0.         0.         0.\n",
            " 0.         0.         0.         0.         0.         0.\n",
            " 0.         0.         0.         0.         0.         0.\n",
            " 0.         0.         0.         0.         0.         0.\n",
            " 0.         0.         0.         0.         0.         0.\n",
            " 0.         0.         0.         0.         0.         0.\n",
            " 0.         0.         0.         0.         0.         0.\n",
            " 0.         0.         0.         0.         0.         0.\n",
            " 0.         0.         0.         0.         0.         0.\n",
            " 0.         0.         0.         0.         0.         0.\n",
            " 0.         0.         0.         0.         0.         0.\n",
            " 0.         0.         0.         0.         0.         0.\n",
            " 0.         0.         0.         0.         0.         0.\n",
            " 0.         0.         0.         0.         0.         0.\n",
            " 0.         0.         0.         0.         0.         0.\n",
            " 0.         0.         0.         0.         0.         0.\n",
            " 0.         0.         0.         0.        ]\n"
          ],
          "name": "stdout"
        }
      ]
    },
    {
      "cell_type": "code",
      "metadata": {
        "id": "3Ruu-vXzQKbi",
        "colab_type": "code",
        "outputId": "9d90a109-b39b-4879-f2e5-912a0a35037b",
        "colab": {
          "base_uri": "https://localhost:8080/",
          "height": 51
        }
      },
      "source": [
        "# here we are having a class number for each image\n",
        "print(\"Class label of first image :\", y_train[0])\n",
        "\n",
        "# lets convert this into a 10 dimensional vector\n",
        "# ex: consider an image is 5 convert it into 5 => [0, 0, 0, 0, 0, 1, 0, 0, 0, 0]\n",
        "# this conversion needed for MLPs \n",
        "\n",
        "Y_train = np_utils.to_categorical(y_train, 10) \n",
        "Y_test = np_utils.to_categorical(y_test, 10)\n",
        "\n",
        "print(\"After converting the output into a vector : \",Y_train[0])"
      ],
      "execution_count": 12,
      "outputs": [
        {
          "output_type": "stream",
          "text": [
            "Class label of first image : 5\n",
            "After converting the output into a vector :  [0. 0. 0. 0. 0. 1. 0. 0. 0. 0.]\n"
          ],
          "name": "stdout"
        }
      ]
    },
    {
      "cell_type": "markdown",
      "metadata": {
        "id": "u0pWB6UyQKbk",
        "colab_type": "text"
      },
      "source": [
        "<h2>  Softmax classifier  </h2>"
      ]
    },
    {
      "cell_type": "code",
      "metadata": {
        "id": "tLAGMubCQKbm",
        "colab_type": "code",
        "colab": {}
      },
      "source": [
        "# https://keras.io/getting-started/sequential-model-guide/\n",
        "\n",
        "# The Sequential model is a linear stack of layers.\n",
        "# you can create a Sequential model by passing a list of layer instances to the constructor:\n",
        "\n",
        "# model = Sequential([\n",
        "#     Dense(32, input_shape=(784,)),\n",
        "#     Activation('relu'),\n",
        "#     Dense(10),\n",
        "#     Activation('softmax'),\n",
        "# ])\n",
        "\n",
        "# You can also simply add layers via the .add() method:\n",
        "\n",
        "# model = Sequential()\n",
        "# model.add(Dense(32, input_dim=784))\n",
        "# model.add(Activation('relu'))\n",
        "\n",
        "###\n",
        "\n",
        "# https://keras.io/layers/core/\n",
        "\n",
        "# keras.layers.Dense(units, activation=None, use_bias=True, kernel_initializer='glorot_uniform', \n",
        "# bias_initializer='zeros', kernel_regularizer=None, bias_regularizer=None, activity_regularizer=None, \n",
        "# kernel_constraint=None, bias_constraint=None)\n",
        "\n",
        "# Dense implements the operation: output = activation(dot(input, kernel) + bias) where\n",
        "# activation is the element-wise activation function passed as the activation argument, \n",
        "# kernel is a weights matrix created by the layer, and \n",
        "# bias is a bias vector created by the layer (only applicable if use_bias is True).\n",
        "\n",
        "# output = activation(dot(input, kernel) + bias)  => y = activation(WT. X + b)\n",
        "\n",
        "####\n",
        "\n",
        "# https://keras.io/activations/\n",
        "\n",
        "# Activations can either be used through an Activation layer, or through the activation argument supported by all forward layers:\n",
        "\n",
        "# from keras.layers import Activation, Dense\n",
        "\n",
        "# model.add(Dense(64))\n",
        "# model.add(Activation('tanh'))\n",
        "\n",
        "# This is equivalent to:\n",
        "# model.add(Dense(64, activation='tanh'))\n",
        "\n",
        "# there are many activation functions ar available ex: tanh, relu, softmax\n",
        "\n",
        "\n",
        "from keras.models import Sequential \n",
        "from keras.layers import Dense, Activation \n"
      ],
      "execution_count": 0,
      "outputs": []
    },
    {
      "cell_type": "code",
      "metadata": {
        "id": "I0s7jzhVQKbn",
        "colab_type": "code",
        "colab": {}
      },
      "source": [
        "# some model parameters\n",
        "\n",
        "output_dim = 10\n",
        "input_dim = X_train.shape[1]\n",
        "\n",
        "batch_size = 128 \n",
        "nb_epoch = 20"
      ],
      "execution_count": 0,
      "outputs": []
    },
    {
      "cell_type": "code",
      "metadata": {
        "id": "HdQg5wGDQKbr",
        "colab_type": "code",
        "colab": {}
      },
      "source": [
        "# start building a model\n",
        "model = Sequential()\n",
        "\n",
        "# The model needs to know what input shape it should expect. \n",
        "# For this reason, the first layer in a Sequential model \n",
        "# (and only the first, because following layers can do automatic shape inference)\n",
        "# needs to receive information about its input shape. \n",
        "# you can use input_shape and input_dim to pass the shape of input\n",
        "\n",
        "# output_dim represent the number of nodes need in that layer\n",
        "# here we have 10 nodes\n",
        "\n",
        "model.add(Dense(output_dim, input_dim=input_dim, activation='softmax'))"
      ],
      "execution_count": 0,
      "outputs": []
    },
    {
      "cell_type": "code",
      "metadata": {
        "id": "EVA11VpmQKbt",
        "colab_type": "code",
        "outputId": "c1602d4a-c168-4975-9625-bbd9ad88f747",
        "colab": {
          "base_uri": "https://localhost:8080/",
          "height": 1000
        }
      },
      "source": [
        "# Before training a model, you need to configure the learning process, which is done via the compile method\n",
        "\n",
        "# It receives three arguments:\n",
        "# An optimizer. This could be the string identifier of an existing optimizer , https://keras.io/optimizers/\n",
        "# A loss function. This is the objective that the model will try to minimize., https://keras.io/losses/\n",
        "# A list of metrics. For any classification problem you will want to set this to metrics=['accuracy'].  https://keras.io/metrics/\n",
        "\n",
        "\n",
        "# Note: when using the categorical_crossentropy loss, your targets should be in categorical format \n",
        "# (e.g. if you have 10 classes, the target for each sample should be a 10-dimensional vector that is all-zeros except \n",
        "# for a 1 at the index corresponding to the class of the sample).\n",
        "\n",
        "# that is why we converted out labels into vectors\n",
        "\n",
        "model.compile(optimizer='sgd', loss='categorical_crossentropy', metrics=['accuracy'])\n",
        "\n",
        "# Keras models are trained on Numpy arrays of input data and labels. \n",
        "# For training a model, you will typically use the  fit function\n",
        "\n",
        "# fit(self, x=None, y=None, batch_size=None, epochs=1, verbose=1, callbacks=None, validation_split=0.0, \n",
        "# validation_data=None, shuffle=True, class_weight=None, sample_weight=None, initial_epoch=0, steps_per_epoch=None, \n",
        "# validation_steps=None)\n",
        "\n",
        "# fit() function Trains the model for a fixed number of epochs (iterations on a dataset).\n",
        "\n",
        "# it returns A History object. Its History.history attribute is a record of training loss values and \n",
        "# metrics values at successive epochs, as well as validation loss values and validation metrics values (if applicable).\n",
        "\n",
        "# https://github.com/openai/baselines/issues/20\n",
        "\n",
        "history = model.fit(X_train, Y_train, batch_size=batch_size, epochs=nb_epoch, verbose=1, validation_data=(X_test, Y_test)) \n"
      ],
      "execution_count": 17,
      "outputs": [
        {
          "output_type": "stream",
          "text": [
            "WARNING:tensorflow:From /usr/local/lib/python3.6/dist-packages/keras/optimizers.py:793: The name tf.train.Optimizer is deprecated. Please use tf.compat.v1.train.Optimizer instead.\n",
            "\n",
            "WARNING:tensorflow:From /usr/local/lib/python3.6/dist-packages/keras/backend/tensorflow_backend.py:3576: The name tf.log is deprecated. Please use tf.math.log instead.\n",
            "\n",
            "WARNING:tensorflow:From /usr/local/lib/python3.6/dist-packages/tensorflow_core/python/ops/math_grad.py:1424: where (from tensorflow.python.ops.array_ops) is deprecated and will be removed in a future version.\n",
            "Instructions for updating:\n",
            "Use tf.where in 2.0, which has the same broadcast rule as np.where\n",
            "WARNING:tensorflow:From /usr/local/lib/python3.6/dist-packages/keras/backend/tensorflow_backend.py:1033: The name tf.assign_add is deprecated. Please use tf.compat.v1.assign_add instead.\n",
            "\n",
            "WARNING:tensorflow:From /usr/local/lib/python3.6/dist-packages/keras/backend/tensorflow_backend.py:1020: The name tf.assign is deprecated. Please use tf.compat.v1.assign instead.\n",
            "\n",
            "WARNING:tensorflow:From /usr/local/lib/python3.6/dist-packages/keras/backend/tensorflow_backend.py:3005: The name tf.Session is deprecated. Please use tf.compat.v1.Session instead.\n",
            "\n",
            "Train on 60000 samples, validate on 10000 samples\n",
            "Epoch 1/20\n",
            "WARNING:tensorflow:From /usr/local/lib/python3.6/dist-packages/keras/backend/tensorflow_backend.py:190: The name tf.get_default_session is deprecated. Please use tf.compat.v1.get_default_session instead.\n",
            "\n",
            "WARNING:tensorflow:From /usr/local/lib/python3.6/dist-packages/keras/backend/tensorflow_backend.py:197: The name tf.ConfigProto is deprecated. Please use tf.compat.v1.ConfigProto instead.\n",
            "\n",
            "WARNING:tensorflow:From /usr/local/lib/python3.6/dist-packages/keras/backend/tensorflow_backend.py:207: The name tf.global_variables is deprecated. Please use tf.compat.v1.global_variables instead.\n",
            "\n",
            "WARNING:tensorflow:From /usr/local/lib/python3.6/dist-packages/keras/backend/tensorflow_backend.py:216: The name tf.is_variable_initialized is deprecated. Please use tf.compat.v1.is_variable_initialized instead.\n",
            "\n",
            "WARNING:tensorflow:From /usr/local/lib/python3.6/dist-packages/keras/backend/tensorflow_backend.py:223: The name tf.variables_initializer is deprecated. Please use tf.compat.v1.variables_initializer instead.\n",
            "\n",
            "60000/60000 [==============================] - 11s 180us/step - loss: 1.2521 - acc: 0.7184 - val_loss: 0.8053 - val_acc: 0.8373\n",
            "Epoch 2/20\n",
            "60000/60000 [==============================] - 1s 24us/step - loss: 0.7087 - acc: 0.8454 - val_loss: 0.6042 - val_acc: 0.8646\n",
            "Epoch 3/20\n",
            "60000/60000 [==============================] - 1s 24us/step - loss: 0.5826 - acc: 0.8623 - val_loss: 0.5239 - val_acc: 0.8745\n",
            "Epoch 4/20\n",
            "60000/60000 [==============================] - 1s 24us/step - loss: 0.5221 - acc: 0.8703 - val_loss: 0.4789 - val_acc: 0.8816\n",
            "Epoch 5/20\n",
            "60000/60000 [==============================] - 1s 24us/step - loss: 0.4852 - acc: 0.8758 - val_loss: 0.4489 - val_acc: 0.8864\n",
            "Epoch 6/20\n",
            "60000/60000 [==============================] - 1s 24us/step - loss: 0.4598 - acc: 0.8803 - val_loss: 0.4281 - val_acc: 0.8897\n",
            "Epoch 7/20\n",
            "60000/60000 [==============================] - 1s 25us/step - loss: 0.4410 - acc: 0.8842 - val_loss: 0.4121 - val_acc: 0.8914\n",
            "Epoch 8/20\n",
            "60000/60000 [==============================] - 1s 25us/step - loss: 0.4263 - acc: 0.8869 - val_loss: 0.3994 - val_acc: 0.8942\n",
            "Epoch 9/20\n",
            "60000/60000 [==============================] - 1s 24us/step - loss: 0.4144 - acc: 0.8892 - val_loss: 0.3892 - val_acc: 0.8978\n",
            "Epoch 10/20\n",
            "60000/60000 [==============================] - 1s 24us/step - loss: 0.4046 - acc: 0.8916 - val_loss: 0.3805 - val_acc: 0.8994\n",
            "Epoch 11/20\n",
            "60000/60000 [==============================] - 1s 24us/step - loss: 0.3962 - acc: 0.8931 - val_loss: 0.3732 - val_acc: 0.9010\n",
            "Epoch 12/20\n",
            "60000/60000 [==============================] - 1s 24us/step - loss: 0.3891 - acc: 0.8946 - val_loss: 0.3666 - val_acc: 0.9016\n",
            "Epoch 13/20\n",
            "60000/60000 [==============================] - 1s 25us/step - loss: 0.3828 - acc: 0.8958 - val_loss: 0.3615 - val_acc: 0.9032\n",
            "Epoch 14/20\n",
            "60000/60000 [==============================] - 1s 23us/step - loss: 0.3772 - acc: 0.8972 - val_loss: 0.3564 - val_acc: 0.9043\n",
            "Epoch 15/20\n",
            "60000/60000 [==============================] - 1s 24us/step - loss: 0.3722 - acc: 0.8978 - val_loss: 0.3520 - val_acc: 0.9052\n",
            "Epoch 16/20\n",
            "60000/60000 [==============================] - 1s 24us/step - loss: 0.3677 - acc: 0.8991 - val_loss: 0.3479 - val_acc: 0.9063\n",
            "Epoch 17/20\n",
            "60000/60000 [==============================] - 1s 24us/step - loss: 0.3637 - acc: 0.8997 - val_loss: 0.3446 - val_acc: 0.9076\n",
            "Epoch 18/20\n",
            "60000/60000 [==============================] - 1s 24us/step - loss: 0.3599 - acc: 0.9009 - val_loss: 0.3412 - val_acc: 0.9083\n",
            "Epoch 19/20\n",
            "60000/60000 [==============================] - 1s 25us/step - loss: 0.3566 - acc: 0.9017 - val_loss: 0.3381 - val_acc: 0.9088\n",
            "Epoch 20/20\n",
            "60000/60000 [==============================] - 1s 25us/step - loss: 0.3534 - acc: 0.9025 - val_loss: 0.3356 - val_acc: 0.9094\n"
          ],
          "name": "stdout"
        }
      ]
    },
    {
      "cell_type": "code",
      "metadata": {
        "id": "HNpwTMHcQKbw",
        "colab_type": "code",
        "outputId": "89691a51-529c-4778-9833-ff78187419e9",
        "colab": {
          "base_uri": "https://localhost:8080/",
          "height": 313
        }
      },
      "source": [
        "score = model.evaluate(X_test, Y_test, verbose=0) \n",
        "print('Test score:', score[0]) \n",
        "print('Test accuracy:', score[1])\n",
        "\n",
        "fig,ax = plt.subplots(1,1)\n",
        "ax.set_xlabel('epoch') ; ax.set_ylabel('Categorical Crossentropy Loss')\n",
        "\n",
        "# list of epoch numbers\n",
        "x = list(range(1,nb_epoch+1))\n",
        "\n",
        "# print(history.history.keys())\n",
        "# dict_keys(['val_loss', 'val_acc', 'loss', 'acc'])\n",
        "# history = model_drop.fit(X_train, Y_train, batch_size=batch_size, epochs=nb_epoch, verbose=1, validation_data=(X_test, Y_test))\n",
        "\n",
        "# we will get val_loss and val_acc only when you pass the paramter validation_data\n",
        "# val_loss : validation loss\n",
        "# val_acc : validation accuracy\n",
        "\n",
        "# loss : training loss\n",
        "# acc : train accuracy\n",
        "# for each key in histrory.histrory we will have a list of length equal to number of epochs\n",
        "\n",
        "vy = history.history['val_loss']\n",
        "ty = history.history['loss']\n",
        "plt_dynamic(x, vy, ty, ax)"
      ],
      "execution_count": 74,
      "outputs": [
        {
          "output_type": "stream",
          "text": [
            "Test score: 0.335641682690382\n",
            "Test accuracy: 0.9094\n"
          ],
          "name": "stdout"
        },
        {
          "output_type": "display_data",
          "data": {
            "image/png": "[encoded data removed]",
            "text/plain": [
              "<Figure size 432x288 with 1 Axes>"
            ]
          },
          "metadata": {
            "tags": []
          }
        }
      ]
    },
    {
      "cell_type": "markdown",
      "metadata": {
        "id": "eh4VWYrHQKbz",
        "colab_type": "text"
      },
      "source": [
        " <h3>  MLP + ReLu activation + Adam Optimizer </h3>"
      ]
    },
    {
      "cell_type": "code",
      "metadata": {
        "id": "7rzbngqHQKbz",
        "colab_type": "code",
        "outputId": "2476c748-5c40-477a-8a56-a9439b058206",
        "colab": {
          "base_uri": "https://localhost:8080/",
          "height": 255
        }
      },
      "source": [
        "# Multilayer perceptron\n",
        "\n",
        "model_sigmoid = Sequential()\n",
        "model_sigmoid.add(Dense(226, activation='relu', input_shape=(input_dim,)))\n",
        "model_sigmoid.add(Dense(132, activation='relu'))\n",
        "model_sigmoid.add(Dense(output_dim, activation='softmax'))\n",
        "\n",
        "model_sigmoid.summary()"
      ],
      "execution_count": 31,
      "outputs": [
        {
          "output_type": "stream",
          "text": [
            "Model: \"sequential_7\"\n",
            "_________________________________________________________________\n",
            "Layer (type)                 Output Shape              Param #   \n",
            "=================================================================\n",
            "dense_13 (Dense)             (None, 226)               177410    \n",
            "_________________________________________________________________\n",
            "dense_14 (Dense)             (None, 132)               29964     \n",
            "_________________________________________________________________\n",
            "dense_15 (Dense)             (None, 10)                1330      \n",
            "=================================================================\n",
            "Total params: 208,704\n",
            "Trainable params: 208,704\n",
            "Non-trainable params: 0\n",
            "_________________________________________________________________\n"
          ],
          "name": "stdout"
        }
      ]
    },
    {
      "cell_type": "code",
      "metadata": {
        "id": "48vVImSpQKb5",
        "colab_type": "code",
        "outputId": "09be5edf-9b41-4c5b-d80b-297274e68a22",
        "colab": {
          "base_uri": "https://localhost:8080/",
          "height": 714
        }
      },
      "source": [
        "model_sigmoid.compile(optimizer='adam', loss='categorical_crossentropy', metrics=['accuracy'])\n",
        "\n",
        "history = model_sigmoid.fit(X_train, Y_train, batch_size=batch_size, epochs=nb_epoch, verbose=1, validation_data=(X_test, Y_test))"
      ],
      "execution_count": 32,
      "outputs": [
        {
          "output_type": "stream",
          "text": [
            "Train on 60000 samples, validate on 10000 samples\n",
            "Epoch 1/20\n",
            "60000/60000 [==============================] - 2s 38us/step - loss: 0.2741 - acc: 0.9215 - val_loss: 0.1390 - val_acc: 0.9581\n",
            "Epoch 2/20\n",
            "60000/60000 [==============================] - 2s 32us/step - loss: 0.1078 - acc: 0.9671 - val_loss: 0.0909 - val_acc: 0.9705\n",
            "Epoch 3/20\n",
            "60000/60000 [==============================] - 2s 32us/step - loss: 0.0704 - acc: 0.9785 - val_loss: 0.0787 - val_acc: 0.9748\n",
            "Epoch 4/20\n",
            "60000/60000 [==============================] - 2s 34us/step - loss: 0.0525 - acc: 0.9838 - val_loss: 0.0837 - val_acc: 0.9734\n",
            "Epoch 5/20\n",
            "60000/60000 [==============================] - 2s 30us/step - loss: 0.0383 - acc: 0.9881 - val_loss: 0.0777 - val_acc: 0.9750\n",
            "Epoch 6/20\n",
            "60000/60000 [==============================] - 2s 31us/step - loss: 0.0303 - acc: 0.9904 - val_loss: 0.0749 - val_acc: 0.9766\n",
            "Epoch 7/20\n",
            "60000/60000 [==============================] - 2s 31us/step - loss: 0.0231 - acc: 0.9925 - val_loss: 0.0738 - val_acc: 0.9778\n",
            "Epoch 8/20\n",
            "60000/60000 [==============================] - 2s 31us/step - loss: 0.0189 - acc: 0.9941 - val_loss: 0.0796 - val_acc: 0.9773\n",
            "Epoch 9/20\n",
            "60000/60000 [==============================] - 2s 31us/step - loss: 0.0163 - acc: 0.9944 - val_loss: 0.0714 - val_acc: 0.9811\n",
            "Epoch 10/20\n",
            "60000/60000 [==============================] - 2s 31us/step - loss: 0.0138 - acc: 0.9955 - val_loss: 0.0841 - val_acc: 0.9765\n",
            "Epoch 11/20\n",
            "60000/60000 [==============================] - 2s 32us/step - loss: 0.0157 - acc: 0.9947 - val_loss: 0.0851 - val_acc: 0.9776\n",
            "Epoch 12/20\n",
            "60000/60000 [==============================] - 2s 32us/step - loss: 0.0113 - acc: 0.9965 - val_loss: 0.0695 - val_acc: 0.9813\n",
            "Epoch 13/20\n",
            "60000/60000 [==============================] - 2s 31us/step - loss: 0.0087 - acc: 0.9971 - val_loss: 0.0856 - val_acc: 0.9777\n",
            "Epoch 14/20\n",
            "60000/60000 [==============================] - 2s 31us/step - loss: 0.0108 - acc: 0.9963 - val_loss: 0.0869 - val_acc: 0.9796\n",
            "Epoch 15/20\n",
            "60000/60000 [==============================] - 2s 31us/step - loss: 0.0104 - acc: 0.9962 - val_loss: 0.0936 - val_acc: 0.9791\n",
            "Epoch 16/20\n",
            "60000/60000 [==============================] - 2s 31us/step - loss: 0.0060 - acc: 0.9979 - val_loss: 0.1014 - val_acc: 0.9792\n",
            "Epoch 17/20\n",
            "60000/60000 [==============================] - 2s 31us/step - loss: 0.0083 - acc: 0.9971 - val_loss: 0.0954 - val_acc: 0.9793\n",
            "Epoch 18/20\n",
            "60000/60000 [==============================] - 2s 31us/step - loss: 0.0072 - acc: 0.9976 - val_loss: 0.1098 - val_acc: 0.9767\n",
            "Epoch 19/20\n",
            "60000/60000 [==============================] - 2s 32us/step - loss: 0.0071 - acc: 0.9974 - val_loss: 0.0996 - val_acc: 0.9796\n",
            "Epoch 20/20\n",
            "60000/60000 [==============================] - 2s 31us/step - loss: 0.0094 - acc: 0.9968 - val_loss: 0.0927 - val_acc: 0.9798\n"
          ],
          "name": "stdout"
        }
      ]
    },
    {
      "cell_type": "code",
      "metadata": {
        "id": "6ffjzr8hQKb8",
        "colab_type": "code",
        "outputId": "45e0776d-7057-4689-84ac-d86460e6387e",
        "colab": {
          "base_uri": "https://localhost:8080/",
          "height": 313
        }
      },
      "source": [
        "score = model_sigmoid.evaluate(X_test, Y_test, verbose=0) \n",
        "print('Test score:', score[0]) \n",
        "print('Test accuracy:', score[1])\n",
        "\n",
        "fig,ax = plt.subplots(1,1)\n",
        "ax.set_xlabel('epoch') ; ax.set_ylabel('Categorical Crossentropy Loss')\n",
        "\n",
        "# list of epoch numbers\n",
        "x = list(range(1,nb_epoch+1))\n",
        "\n",
        "# print(history.history.keys())\n",
        "# dict_keys(['val_loss', 'val_acc', 'loss', 'acc'])\n",
        "# history = model_drop.fit(X_train, Y_train, batch_size=batch_size, epochs=nb_epoch, verbose=1, validation_data=(X_test, Y_test))\n",
        "\n",
        "# we will get val_loss and val_acc only when you pass the paramter validation_data\n",
        "# val_loss : validation loss\n",
        "# val_acc : validation accuracy\n",
        "\n",
        "# loss : training loss\n",
        "# acc : train accuracy\n",
        "# for each key in histrory.histrory we will have a list of length equal to number of epochs\n",
        "\n",
        "vy = history.history['val_loss']\n",
        "ty = history.history['loss']\n",
        "plt_dynamic(x, vy, ty, ax)"
      ],
      "execution_count": 73,
      "outputs": [
        {
          "output_type": "stream",
          "text": [
            "Test score: 0.09268326033384333\n",
            "Test accuracy: 0.9798\n"
          ],
          "name": "stdout"
        },
        {
          "output_type": "display_data",
          "data": {
            "image/png": "[encoded data removed]",
            "text/plain": [
              "<Figure size 432x288 with 1 Axes>"
            ]
          },
          "metadata": {
            "tags": []
          }
        }
      ]
    },
    {
      "cell_type": "code",
      "metadata": {
        "id": "Ejn01XXdQKb-",
        "colab_type": "code",
        "outputId": "e161730a-d5e3-4567-a793-d339036bcfe3",
        "colab": {
          "base_uri": "https://localhost:8080/",
          "height": 285
        }
      },
      "source": [
        "w_after = model_sigmoid.get_weights()\n",
        "\n",
        "h1_w = w_after[0].flatten().reshape(-1,1)\n",
        "h2_w = w_after[2].flatten().reshape(-1,1)\n",
        "out_w = w_after[4].flatten().reshape(-1,1)\n",
        "\n",
        "\n",
        "fig = plt.figure()\n",
        "plt.title(\"Weight matrices after model trained\")\n",
        "plt.subplot(1, 3, 1)\n",
        "plt.title(\"Trained model Weights\")\n",
        "ax = sns.violinplot(y=h1_w,color='b')\n",
        "plt.xlabel('Hidden Layer 1')\n",
        "\n",
        "plt.subplot(1, 3, 2)\n",
        "plt.title(\"Trained model Weights\")\n",
        "ax = sns.violinplot(y=h2_w, color='r')\n",
        "plt.xlabel('Hidden Layer 2 ')\n",
        "\n",
        "plt.subplot(1, 3, 3)\n",
        "plt.title(\"Trained model Weights\")\n",
        "ax = sns.violinplot(y=out_w,color='y')\n",
        "plt.xlabel('Output Layer ')\n",
        "plt.show()"
      ],
      "execution_count": 72,
      "outputs": [
        {
          "output_type": "display_data",
          "data": {
            "image/png": "[encoded data removed]",
            "text/plain": [
              "<Figure size 432x288 with 3 Axes>"
            ]
          },
          "metadata": {
            "tags": []
          }
        }
      ]
    },
    {
      "cell_type": "markdown",
      "metadata": {
        "id": "ExLv_CAeQKcA",
        "colab_type": "text"
      },
      "source": [
        "<h2>MLP + ReLu activation + BatchNormalisation + Dropout + ADAM with 2 layers</h2>"
      ]
    },
    {
      "cell_type": "code",
      "metadata": {
        "id": "cwiBuQFxSRMd",
        "colab_type": "code",
        "colab": {
          "base_uri": "https://localhost:8080/",
          "height": 391
        },
        "outputId": "a020bc22-e2b4-4e56-cc14-49a90d810c7d"
      },
      "source": [
        "# https://stackoverflow.com/questions/34716454/where-do-i-call-the-batchnormalization-function-in-keras\n",
        "\n",
        "from keras.layers import Dropout\n",
        "from keras.layers.normalization import BatchNormalization\n",
        "model_drop = Sequential()\n",
        "\n",
        "model_drop.add(Dense(226, activation='relu', input_shape=(input_dim,), kernel_initializer=RandomNormal(mean=0.0, stddev=0.039, seed=None)))\n",
        "model_drop.add(BatchNormalization())\n",
        "model_drop.add(Dropout(0.5))\n",
        "\n",
        "model_drop.add(Dense(132, activation='relu', kernel_initializer=RandomNormal(mean=0.0, stddev=0.55, seed=None)) )\n",
        "model_drop.add(BatchNormalization())\n",
        "model_drop.add(Dropout(0.5))\n",
        "\n",
        "model_drop.add(Dense(output_dim, activation='softmax'))\n",
        "\n",
        "\n",
        "model_drop.summary()"
      ],
      "execution_count": 35,
      "outputs": [
        {
          "output_type": "stream",
          "text": [
            "Model: \"sequential_8\"\n",
            "_________________________________________________________________\n",
            "Layer (type)                 Output Shape              Param #   \n",
            "=================================================================\n",
            "dense_16 (Dense)             (None, 226)               177410    \n",
            "_________________________________________________________________\n",
            "batch_normalization_3 (Batch (None, 226)               904       \n",
            "_________________________________________________________________\n",
            "dropout_3 (Dropout)          (None, 226)               0         \n",
            "_________________________________________________________________\n",
            "dense_17 (Dense)             (None, 132)               29964     \n",
            "_________________________________________________________________\n",
            "batch_normalization_4 (Batch (None, 132)               528       \n",
            "_________________________________________________________________\n",
            "dropout_4 (Dropout)          (None, 132)               0         \n",
            "_________________________________________________________________\n",
            "dense_18 (Dense)             (None, 10)                1330      \n",
            "=================================================================\n",
            "Total params: 210,136\n",
            "Trainable params: 209,420\n",
            "Non-trainable params: 716\n",
            "_________________________________________________________________\n"
          ],
          "name": "stdout"
        }
      ]
    },
    {
      "cell_type": "code",
      "metadata": {
        "id": "uVIQZWgJSSRi",
        "colab_type": "code",
        "colab": {
          "base_uri": "https://localhost:8080/",
          "height": 714
        },
        "outputId": "e8f3c42d-5e94-4b43-eca6-c3f16d8e570f"
      },
      "source": [
        "model_drop.compile(optimizer='adam', loss='categorical_crossentropy', metrics=['accuracy'])\n",
        "\n",
        "history = model_drop.fit(X_train, Y_train, batch_size=batch_size, epochs=nb_epoch, verbose=1, validation_data=(X_test, Y_test))"
      ],
      "execution_count": 71,
      "outputs": [
        {
          "output_type": "stream",
          "text": [
            "Train on 60000 samples, validate on 10000 samples\n",
            "Epoch 1/20\n",
            "60000/60000 [==============================] - 8s 126us/step - loss: 0.2252 - acc: 0.9416 - val_loss: 0.1237 - val_acc: 0.9679\n",
            "Epoch 2/20\n",
            "60000/60000 [==============================] - 6s 92us/step - loss: 0.2182 - acc: 0.9431 - val_loss: 0.1214 - val_acc: 0.9685\n",
            "Epoch 3/20\n",
            "60000/60000 [==============================] - 6s 93us/step - loss: 0.2109 - acc: 0.9455 - val_loss: 0.1215 - val_acc: 0.9693\n",
            "Epoch 4/20\n",
            "60000/60000 [==============================] - 6s 95us/step - loss: 0.2110 - acc: 0.9453 - val_loss: 0.1176 - val_acc: 0.9697\n",
            "Epoch 5/20\n",
            "60000/60000 [==============================] - 6s 93us/step - loss: 0.2046 - acc: 0.9467 - val_loss: 0.1172 - val_acc: 0.9698\n",
            "Epoch 6/20\n",
            "60000/60000 [==============================] - 6s 94us/step - loss: 0.1994 - acc: 0.9486 - val_loss: 0.1204 - val_acc: 0.9688\n",
            "Epoch 7/20\n",
            "60000/60000 [==============================] - 6s 92us/step - loss: 0.1941 - acc: 0.9502 - val_loss: 0.1110 - val_acc: 0.9723\n",
            "Epoch 8/20\n",
            "60000/60000 [==============================] - 6s 93us/step - loss: 0.1912 - acc: 0.9513 - val_loss: 0.1179 - val_acc: 0.9703\n",
            "Epoch 9/20\n",
            "60000/60000 [==============================] - 6s 92us/step - loss: 0.1901 - acc: 0.9510 - val_loss: 0.1145 - val_acc: 0.9718\n",
            "Epoch 10/20\n",
            "60000/60000 [==============================] - 6s 94us/step - loss: 0.1838 - acc: 0.9525 - val_loss: 0.1131 - val_acc: 0.9709\n",
            "Epoch 11/20\n",
            "60000/60000 [==============================] - 6s 94us/step - loss: 0.1849 - acc: 0.9516 - val_loss: 0.1132 - val_acc: 0.9715\n",
            "Epoch 12/20\n",
            "60000/60000 [==============================] - 6s 92us/step - loss: 0.1808 - acc: 0.9528 - val_loss: 0.1150 - val_acc: 0.9721\n",
            "Epoch 13/20\n",
            "60000/60000 [==============================] - 6s 93us/step - loss: 0.1806 - acc: 0.9520 - val_loss: 0.1161 - val_acc: 0.9714\n",
            "Epoch 14/20\n",
            "60000/60000 [==============================] - 6s 92us/step - loss: 0.1726 - acc: 0.9549 - val_loss: 0.1091 - val_acc: 0.9726\n",
            "Epoch 15/20\n",
            "60000/60000 [==============================] - 6s 97us/step - loss: 0.1772 - acc: 0.9540 - val_loss: 0.1097 - val_acc: 0.9712\n",
            "Epoch 16/20\n",
            "60000/60000 [==============================] - 6s 94us/step - loss: 0.1736 - acc: 0.9540 - val_loss: 0.1096 - val_acc: 0.9733\n",
            "Epoch 17/20\n",
            "60000/60000 [==============================] - 6s 93us/step - loss: 0.1700 - acc: 0.9561 - val_loss: 0.1084 - val_acc: 0.9736\n",
            "Epoch 18/20\n",
            "60000/60000 [==============================] - 5s 90us/step - loss: 0.1668 - acc: 0.9564 - val_loss: 0.1062 - val_acc: 0.9734\n",
            "Epoch 19/20\n",
            "60000/60000 [==============================] - 5s 91us/step - loss: 0.1650 - acc: 0.9571 - val_loss: 0.1118 - val_acc: 0.9720\n",
            "Epoch 20/20\n",
            "60000/60000 [==============================] - 5s 92us/step - loss: 0.1665 - acc: 0.9567 - val_loss: 0.1108 - val_acc: 0.9728\n"
          ],
          "name": "stdout"
        }
      ]
    },
    {
      "cell_type": "code",
      "metadata": {
        "id": "_FIy84MRSSu8",
        "colab_type": "code",
        "colab": {
          "base_uri": "https://localhost:8080/",
          "height": 313
        },
        "outputId": "8d4a7705-ea82-4fae-8c78-f2faadfcf7a2"
      },
      "source": [
        "score = model_drop.evaluate(X_test, Y_test, verbose=0) \n",
        "print('Test score:', score[0]) \n",
        "print('Test accuracy:', score[1])\n",
        "\n",
        "fig,ax = plt.subplots(1,1)\n",
        "ax.set_xlabel('epoch') ; ax.set_ylabel('Categorical Crossentropy Loss')\n",
        "\n",
        "# list of epoch numbers\n",
        "x = list(range(1,nb_epoch+1))\n",
        "\n",
        "# print(history.history.keys())\n",
        "# dict_keys(['val_loss', 'val_acc', 'loss', 'acc'])\n",
        "# history = model_drop.fit(X_train, Y_train, batch_size=batch_size, epochs=nb_epoch, verbose=1, validation_data=(X_test, Y_test))\n",
        "\n",
        "# we will get val_loss and val_acc only when you pass the paramter validation_data\n",
        "# val_loss : validation loss\n",
        "# val_acc : validation accuracy\n",
        "\n",
        "# loss : training loss\n",
        "# acc : train accuracy\n",
        "# for each key in histrory.histrory we will have a list of length equal to number of epochs\n",
        "\n",
        "vy = history.history['val_loss']\n",
        "ty = history.history['loss']\n",
        "plt_dynamic(x, vy, ty, ax)"
      ],
      "execution_count": 70,
      "outputs": [
        {
          "output_type": "stream",
          "text": [
            "Test score: 0.12922746661901474\n",
            "Test accuracy: 0.9667\n"
          ],
          "name": "stdout"
        },
        {
          "output_type": "display_data",
          "data": {
            "image/png": "[encoded data removed]",
            "text/plain": [
              "<Figure size 432x288 with 1 Axes>"
            ]
          },
          "metadata": {
            "tags": []
          }
        }
      ]
    },
    {
      "cell_type": "code",
      "metadata": {
        "id": "ASJJMv6ASV1Y",
        "colab_type": "code",
        "colab": {
          "base_uri": "https://localhost:8080/",
          "height": 285
        },
        "outputId": "1395e939-eb4d-4f9b-a8a2-383e56ecd657"
      },
      "source": [
        "w_after = model_drop.get_weights()\n",
        "\n",
        "h1_w = w_after[0].flatten().reshape(-1,1)\n",
        "h2_w = w_after[2].flatten().reshape(-1,1)\n",
        "out_w = w_after[4].flatten().reshape(-1,1)\n",
        "\n",
        "\n",
        "fig = plt.figure()\n",
        "plt.title(\"Weight matrices after model trained\")\n",
        "plt.subplot(1, 3, 1)\n",
        "plt.title(\"Trained model Weights\")\n",
        "ax = sns.violinplot(y=h1_w,color='b')\n",
        "plt.xlabel('Hidden Layer 1')\n",
        "\n",
        "plt.subplot(1, 3, 2)\n",
        "plt.title(\"Trained model Weights\")\n",
        "ax = sns.violinplot(y=h2_w, color='r')\n",
        "plt.xlabel('Hidden Layer 2 ')\n",
        "\n",
        "plt.subplot(1, 3, 3)\n",
        "plt.title(\"Trained model Weights\")\n",
        "ax = sns.violinplot(y=out_w,color='y')\n",
        "plt.xlabel('Output Layer ')\n",
        "plt.show()"
      ],
      "execution_count": 69,
      "outputs": [
        {
          "output_type": "display_data",
          "data": {
            "image/png": "[encoded data removed]",
            "text/plain": [
              "<Figure size 432x288 with 3 Axes>"
            ]
          },
          "metadata": {
            "tags": []
          }
        }
      ]
    },
    {
      "cell_type": "markdown",
      "metadata": {
        "id": "HsQd6BETcf3O",
        "colab_type": "text"
      },
      "source": [
        "<h3> MLP + ReLu activation + BatchNormalisation + Dropout + ADAM with 3 layers </h3>\n"
      ]
    },
    {
      "cell_type": "code",
      "metadata": {
        "id": "vqoao1RmZDV4",
        "colab_type": "code",
        "colab": {
          "base_uri": "https://localhost:8080/",
          "height": 493
        },
        "outputId": "b4abef36-a16c-4f2c-f746-10506fb1b5b2"
      },
      "source": [
        "# https://stackoverflow.com/questions/34716454/where-do-i-call-the-batchnormalization-function-in-keras\n",
        "\n",
        "from keras.layers import Dropout\n",
        "\n",
        "model_drop = Sequential()\n",
        "\n",
        "model_drop.add(Dense(442, activation='relu', input_shape=(input_dim,), kernel_initializer=RandomNormal(mean=0.0, stddev=0.039, seed=None)))\n",
        "model_drop.add(BatchNormalization())\n",
        "model_drop.add(Dropout(0.5))\n",
        "\n",
        "model_drop.add(Dense(123, activation='relu', kernel_initializer=RandomNormal(mean=0.0, stddev=0.55, seed=None)) )\n",
        "model_drop.add(BatchNormalization())\n",
        "model_drop.add(Dropout(0.5))\n",
        "\n",
        "model_drop.add(Dense(82, activation='relu', kernel_initializer=RandomNormal(mean=0.0, stddev=0.55, seed=None)) )\n",
        "model_drop.add(BatchNormalization())\n",
        "model_drop.add(Dropout(0.5))\n",
        "\n",
        "model_drop.add(Dense(output_dim, activation='softmax'))\n",
        "\n",
        "\n",
        "model_drop.summary()"
      ],
      "execution_count": 44,
      "outputs": [
        {
          "output_type": "stream",
          "text": [
            "Model: \"sequential_10\"\n",
            "_________________________________________________________________\n",
            "Layer (type)                 Output Shape              Param #   \n",
            "=================================================================\n",
            "dense_23 (Dense)             (None, 442)               346970    \n",
            "_________________________________________________________________\n",
            "batch_normalization_8 (Batch (None, 442)               1768      \n",
            "_________________________________________________________________\n",
            "dropout_8 (Dropout)          (None, 442)               0         \n",
            "_________________________________________________________________\n",
            "dense_24 (Dense)             (None, 123)               54489     \n",
            "_________________________________________________________________\n",
            "batch_normalization_9 (Batch (None, 123)               492       \n",
            "_________________________________________________________________\n",
            "dropout_9 (Dropout)          (None, 123)               0         \n",
            "_________________________________________________________________\n",
            "dense_25 (Dense)             (None, 82)                10168     \n",
            "_________________________________________________________________\n",
            "batch_normalization_10 (Batc (None, 82)                328       \n",
            "_________________________________________________________________\n",
            "dropout_10 (Dropout)         (None, 82)                0         \n",
            "_________________________________________________________________\n",
            "dense_26 (Dense)             (None, 10)                830       \n",
            "=================================================================\n",
            "Total params: 415,045\n",
            "Trainable params: 413,751\n",
            "Non-trainable params: 1,294\n",
            "_________________________________________________________________\n"
          ],
          "name": "stdout"
        }
      ]
    },
    {
      "cell_type": "code",
      "metadata": {
        "id": "CiJyhdsEZDs6",
        "colab_type": "code",
        "colab": {
          "base_uri": "https://localhost:8080/",
          "height": 714
        },
        "outputId": "808eea77-b851-42e6-ac17-abc208deb988"
      },
      "source": [
        "model_drop.compile(optimizer='adam', loss='categorical_crossentropy', metrics=['accuracy'])\n",
        "\n",
        "history = model_drop.fit(X_train, Y_train, batch_size=batch_size, epochs=nb_epoch, verbose=1, validation_data=(X_test, Y_test))"
      ],
      "execution_count": 45,
      "outputs": [
        {
          "output_type": "stream",
          "text": [
            "Train on 60000 samples, validate on 10000 samples\n",
            "Epoch 1/20\n",
            "60000/60000 [==============================] - 5s 87us/step - loss: 0.8982 - acc: 0.7228 - val_loss: 0.2302 - val_acc: 0.9300\n",
            "Epoch 2/20\n",
            "60000/60000 [==============================] - 4s 67us/step - loss: 0.4125 - acc: 0.8783 - val_loss: 0.1740 - val_acc: 0.9462\n",
            "Epoch 3/20\n",
            "60000/60000 [==============================] - 4s 67us/step - loss: 0.3221 - acc: 0.9079 - val_loss: 0.1503 - val_acc: 0.9537\n",
            "Epoch 4/20\n",
            "60000/60000 [==============================] - 4s 67us/step - loss: 0.2656 - acc: 0.9241 - val_loss: 0.1218 - val_acc: 0.9630\n",
            "Epoch 5/20\n",
            "60000/60000 [==============================] - 4s 66us/step - loss: 0.2327 - acc: 0.9330 - val_loss: 0.1177 - val_acc: 0.9652\n",
            "Epoch 6/20\n",
            "60000/60000 [==============================] - 4s 67us/step - loss: 0.2128 - acc: 0.9402 - val_loss: 0.1090 - val_acc: 0.9683\n",
            "Epoch 7/20\n",
            "60000/60000 [==============================] - 4s 67us/step - loss: 0.1942 - acc: 0.9448 - val_loss: 0.1001 - val_acc: 0.9710\n",
            "Epoch 8/20\n",
            "60000/60000 [==============================] - 4s 67us/step - loss: 0.1787 - acc: 0.9493 - val_loss: 0.0994 - val_acc: 0.9710\n",
            "Epoch 9/20\n",
            "60000/60000 [==============================] - 4s 66us/step - loss: 0.1686 - acc: 0.9521 - val_loss: 0.0944 - val_acc: 0.9729\n",
            "Epoch 10/20\n",
            "60000/60000 [==============================] - 4s 71us/step - loss: 0.1577 - acc: 0.9548 - val_loss: 0.0859 - val_acc: 0.9758\n",
            "Epoch 11/20\n",
            "60000/60000 [==============================] - 4s 70us/step - loss: 0.1524 - acc: 0.9563 - val_loss: 0.0901 - val_acc: 0.9742\n",
            "Epoch 12/20\n",
            "60000/60000 [==============================] - 4s 66us/step - loss: 0.1422 - acc: 0.9597 - val_loss: 0.0824 - val_acc: 0.9778\n",
            "Epoch 13/20\n",
            "60000/60000 [==============================] - 4s 66us/step - loss: 0.1357 - acc: 0.9620 - val_loss: 0.0797 - val_acc: 0.9778\n",
            "Epoch 14/20\n",
            "60000/60000 [==============================] - 4s 68us/step - loss: 0.1305 - acc: 0.9627 - val_loss: 0.0791 - val_acc: 0.9777\n",
            "Epoch 15/20\n",
            "60000/60000 [==============================] - 4s 66us/step - loss: 0.1242 - acc: 0.9642 - val_loss: 0.0761 - val_acc: 0.9786\n",
            "Epoch 16/20\n",
            "60000/60000 [==============================] - 4s 69us/step - loss: 0.1178 - acc: 0.9659 - val_loss: 0.0768 - val_acc: 0.9783\n",
            "Epoch 17/20\n",
            "60000/60000 [==============================] - 4s 65us/step - loss: 0.1110 - acc: 0.9682 - val_loss: 0.0709 - val_acc: 0.9800\n",
            "Epoch 18/20\n",
            "60000/60000 [==============================] - 4s 68us/step - loss: 0.1122 - acc: 0.9675 - val_loss: 0.0722 - val_acc: 0.9798\n",
            "Epoch 19/20\n",
            "60000/60000 [==============================] - 4s 66us/step - loss: 0.1022 - acc: 0.9705 - val_loss: 0.0737 - val_acc: 0.9791\n",
            "Epoch 20/20\n",
            "60000/60000 [==============================] - 4s 67us/step - loss: 0.1047 - acc: 0.9708 - val_loss: 0.0807 - val_acc: 0.9776\n"
          ],
          "name": "stdout"
        }
      ]
    },
    {
      "cell_type": "code",
      "metadata": {
        "id": "9SpeiJxmbSlk",
        "colab_type": "code",
        "colab": {
          "base_uri": "https://localhost:8080/",
          "height": 313
        },
        "outputId": "5bd821d0-3468-4116-8516-9f817db97249"
      },
      "source": [
        "score = model_drop.evaluate(X_test, Y_test, verbose=0) \n",
        "print('Test score:', score[0]) \n",
        "print('Test accuracy:', score[1])\n",
        "\n",
        "fig,ax = plt.subplots(1,1)\n",
        "ax.set_xlabel('epoch') ; ax.set_ylabel('Categorical Crossentropy Loss')\n",
        "\n",
        "# list of epoch numbers\n",
        "x = list(range(1,nb_epoch+1))\n",
        "\n",
        "# print(history.history.keys())\n",
        "# dict_keys(['val_loss', 'val_acc', 'loss', 'acc'])\n",
        "# history = model_drop.fit(X_train, Y_train, batch_size=batch_size, epochs=nb_epoch, verbose=1, validation_data=(X_test, Y_test))\n",
        "\n",
        "# we will get val_loss and val_acc only when you pass the paramter validation_data\n",
        "# val_loss : validation loss\n",
        "# val_acc : validation accuracy\n",
        "\n",
        "# loss : training loss\n",
        "# acc : train accuracy\n",
        "# for each key in histrory.histrory we will have a list of length equal to number of epochs\n",
        "\n",
        "vy = history.history['val_loss']\n",
        "ty = history.history['loss']\n",
        "plt_dynamic(x, vy, ty, ax)"
      ],
      "execution_count": 66,
      "outputs": [
        {
          "output_type": "stream",
          "text": [
            "Test score: 0.12922746661901474\n",
            "Test accuracy: 0.9667\n"
          ],
          "name": "stdout"
        },
        {
          "output_type": "display_data",
          "data": {
            "image/png": "[encoded data removed]",
            "text/plain": [
              "<Figure size 432x288 with 1 Axes>"
            ]
          },
          "metadata": {
            "tags": []
          }
        }
      ]
    },
    {
      "cell_type": "code",
      "metadata": {
        "id": "pBDUW5dQbS3H",
        "colab_type": "code",
        "colab": {
          "base_uri": "https://localhost:8080/",
          "height": 285
        },
        "outputId": "8c71648d-1b68-4da7-c525-75c4b49b19e9"
      },
      "source": [
        "w_after = model_drop.get_weights()\n",
        "\n",
        "h1_w = w_after[0].flatten().reshape(-1,1)\n",
        "h2_w = w_after[2].flatten().reshape(-1,1)\n",
        "h3_w = w_after[4].flatten().reshape(-1,1)\n",
        "out_w = w_after[6].flatten().reshape(-1,1)\n",
        "\n",
        "\n",
        "fig = plt.figure()\n",
        "plt.title(\"Weight matrices after model trained\")\n",
        "plt.subplot(1, 4, 1)\n",
        "plt.title(\"Trained model Weights\")\n",
        "ax = sns.violinplot(y=h1_w,color='b')\n",
        "plt.xlabel('Hidden Layer 1')\n",
        "\n",
        "plt.subplot(1, 4, 2)\n",
        "plt.title(\"Trained model Weights\")\n",
        "ax = sns.violinplot(y=h2_w, color='r')\n",
        "plt.xlabel('Hidden Layer 2 ')\n",
        "\n",
        "plt.subplot(1, 4, 3)\n",
        "plt.title(\"Trained model Weights\")\n",
        "ax = sns.violinplot(y=h3_w, color='g')\n",
        "plt.xlabel('Hidden Layer 3 ')\n",
        "\n",
        "plt.subplot(1, 4, 4)\n",
        "plt.title(\"Trained model Weights\")\n",
        "ax = sns.violinplot(y=out_w,color='y')\n",
        "plt.xlabel('Output Layer ')\n",
        "plt.show()"
      ],
      "execution_count": 65,
      "outputs": [
        {
          "output_type": "display_data",
          "data": {
            "image/png": "[encoded data removed]",
            "text/plain": [
              "<Figure size 432x288 with 4 Axes>"
            ]
          },
          "metadata": {
            "tags": []
          }
        }
      ]
    },
    {
      "cell_type": "markdown",
      "metadata": {
        "id": "kIH923Zwc9eZ",
        "colab_type": "text"
      },
      "source": [
        "<h3> MLP + ReLu activation + BatchNormalisation + Dropout + ADAM with 5 layers </h3>\n"
      ]
    },
    {
      "cell_type": "code",
      "metadata": {
        "id": "JNnQrc0ecOkm",
        "colab_type": "code",
        "colab": {
          "base_uri": "https://localhost:8080/",
          "height": 697
        },
        "outputId": "c18131e1-dc2f-4b43-fc51-68451c305da9"
      },
      "source": [
        "# https://stackoverflow.com/questions/34716454/where-do-i-call-the-batchnormalization-function-in-keras\n",
        "\n",
        "from keras.layers import Dropout\n",
        "\n",
        "model_drop = Sequential()\n",
        "\n",
        "model_drop.add(Dense(128, activation='relu', input_shape=(input_dim,), kernel_initializer=RandomNormal(mean=0.0, stddev=0.039, seed=None)))\n",
        "model_drop.add(BatchNormalization())\n",
        "model_drop.add(Dropout(0.5))\n",
        "\n",
        "model_drop.add(Dense(128, activation='relu', kernel_initializer=RandomNormal(mean=0.0, stddev=0.55, seed=None)) )\n",
        "model_drop.add(BatchNormalization())\n",
        "model_drop.add(Dropout(0.5))\n",
        "\n",
        "model_drop.add(Dense(128, activation='relu', kernel_initializer=RandomNormal(mean=0.0, stddev=0.55, seed=None)) )\n",
        "model_drop.add(BatchNormalization())\n",
        "model_drop.add(Dropout(0.5))\n",
        "\n",
        "model_drop.add(Dense(128, activation='relu', kernel_initializer=RandomNormal(mean=0.0, stddev=0.55, seed=None)) )\n",
        "model_drop.add(BatchNormalization())\n",
        "model_drop.add(Dropout(0.5))\n",
        "\n",
        "model_drop.add(Dense(128, activation='relu', kernel_initializer=RandomNormal(mean=0.0, stddev=0.55, seed=None)) )\n",
        "model_drop.add(BatchNormalization())\n",
        "model_drop.add(Dropout(0.5))\n",
        "\n",
        "\n",
        "model_drop.add(Dense(output_dim, activation='softmax'))\n",
        "\n",
        "\n",
        "model_drop.summary()"
      ],
      "execution_count": 48,
      "outputs": [
        {
          "output_type": "stream",
          "text": [
            "Model: \"sequential_11\"\n",
            "_________________________________________________________________\n",
            "Layer (type)                 Output Shape              Param #   \n",
            "=================================================================\n",
            "dense_27 (Dense)             (None, 128)               100480    \n",
            "_________________________________________________________________\n",
            "batch_normalization_11 (Batc (None, 128)               512       \n",
            "_________________________________________________________________\n",
            "dropout_11 (Dropout)         (None, 128)               0         \n",
            "_________________________________________________________________\n",
            "dense_28 (Dense)             (None, 128)               16512     \n",
            "_________________________________________________________________\n",
            "batch_normalization_12 (Batc (None, 128)               512       \n",
            "_________________________________________________________________\n",
            "dropout_12 (Dropout)         (None, 128)               0         \n",
            "_________________________________________________________________\n",
            "dense_29 (Dense)             (None, 128)               16512     \n",
            "_________________________________________________________________\n",
            "batch_normalization_13 (Batc (None, 128)               512       \n",
            "_________________________________________________________________\n",
            "dropout_13 (Dropout)         (None, 128)               0         \n",
            "_________________________________________________________________\n",
            "dense_30 (Dense)             (None, 128)               16512     \n",
            "_________________________________________________________________\n",
            "batch_normalization_14 (Batc (None, 128)               512       \n",
            "_________________________________________________________________\n",
            "dropout_14 (Dropout)         (None, 128)               0         \n",
            "_________________________________________________________________\n",
            "dense_31 (Dense)             (None, 128)               16512     \n",
            "_________________________________________________________________\n",
            "batch_normalization_15 (Batc (None, 128)               512       \n",
            "_________________________________________________________________\n",
            "dropout_15 (Dropout)         (None, 128)               0         \n",
            "_________________________________________________________________\n",
            "dense_32 (Dense)             (None, 10)                1290      \n",
            "=================================================================\n",
            "Total params: 170,378\n",
            "Trainable params: 169,098\n",
            "Non-trainable params: 1,280\n",
            "_________________________________________________________________\n"
          ],
          "name": "stdout"
        }
      ]
    },
    {
      "cell_type": "code",
      "metadata": {
        "id": "0499ZZjOePZ-",
        "colab_type": "code",
        "colab": {
          "base_uri": "https://localhost:8080/",
          "height": 714
        },
        "outputId": "2fc51cd7-506f-403a-ff0b-e6b961440083"
      },
      "source": [
        "model_drop.compile(optimizer='adam', loss='categorical_crossentropy', metrics=['accuracy'])\n",
        "\n",
        "history = model_drop.fit(X_train, Y_train, batch_size=batch_size, epochs=nb_epoch, verbose=1, validation_data=(X_test, Y_test))"
      ],
      "execution_count": 49,
      "outputs": [
        {
          "output_type": "stream",
          "text": [
            "Train on 60000 samples, validate on 10000 samples\n",
            "Epoch 1/20\n",
            "60000/60000 [==============================] - 7s 124us/step - loss: 2.0302 - acc: 0.3242 - val_loss: 0.9151 - val_acc: 0.7327\n",
            "Epoch 2/20\n",
            "60000/60000 [==============================] - 6s 94us/step - loss: 1.0387 - acc: 0.6370 - val_loss: 0.4634 - val_acc: 0.8767\n",
            "Epoch 3/20\n",
            "60000/60000 [==============================] - 5s 91us/step - loss: 0.7431 - acc: 0.7597 - val_loss: 0.3343 - val_acc: 0.9076\n",
            "Epoch 4/20\n",
            "60000/60000 [==============================] - 6s 92us/step - loss: 0.6024 - acc: 0.8151 - val_loss: 0.2734 - val_acc: 0.9238\n",
            "Epoch 5/20\n",
            "60000/60000 [==============================] - 5s 91us/step - loss: 0.5116 - acc: 0.8481 - val_loss: 0.2446 - val_acc: 0.9332\n",
            "Epoch 6/20\n",
            "60000/60000 [==============================] - 6s 92us/step - loss: 0.4611 - acc: 0.8689 - val_loss: 0.2169 - val_acc: 0.9399\n",
            "Epoch 7/20\n",
            "60000/60000 [==============================] - 6s 93us/step - loss: 0.4127 - acc: 0.8841 - val_loss: 0.1936 - val_acc: 0.9454\n",
            "Epoch 8/20\n",
            "60000/60000 [==============================] - 5s 92us/step - loss: 0.3831 - acc: 0.8939 - val_loss: 0.1798 - val_acc: 0.9492\n",
            "Epoch 9/20\n",
            "60000/60000 [==============================] - 6s 98us/step - loss: 0.3468 - acc: 0.9057 - val_loss: 0.1726 - val_acc: 0.9509\n",
            "Epoch 10/20\n",
            "60000/60000 [==============================] - 5s 91us/step - loss: 0.3286 - acc: 0.9119 - val_loss: 0.1562 - val_acc: 0.9583\n",
            "Epoch 11/20\n",
            "60000/60000 [==============================] - 6s 94us/step - loss: 0.3094 - acc: 0.9169 - val_loss: 0.1648 - val_acc: 0.9569\n",
            "Epoch 12/20\n",
            "60000/60000 [==============================] - 6s 92us/step - loss: 0.2925 - acc: 0.9216 - val_loss: 0.1568 - val_acc: 0.9593\n",
            "Epoch 13/20\n",
            "60000/60000 [==============================] - 6s 94us/step - loss: 0.2782 - acc: 0.9266 - val_loss: 0.1518 - val_acc: 0.9602\n",
            "Epoch 14/20\n",
            "60000/60000 [==============================] - 6s 92us/step - loss: 0.2696 - acc: 0.9290 - val_loss: 0.1480 - val_acc: 0.9605\n",
            "Epoch 15/20\n",
            "60000/60000 [==============================] - 6s 93us/step - loss: 0.2603 - acc: 0.9310 - val_loss: 0.1396 - val_acc: 0.9635\n",
            "Epoch 16/20\n",
            "60000/60000 [==============================] - 5s 90us/step - loss: 0.2522 - acc: 0.9344 - val_loss: 0.1337 - val_acc: 0.9649\n",
            "Epoch 17/20\n",
            "60000/60000 [==============================] - 5s 89us/step - loss: 0.2510 - acc: 0.9347 - val_loss: 0.1339 - val_acc: 0.9648\n",
            "Epoch 18/20\n",
            "60000/60000 [==============================] - 5s 91us/step - loss: 0.2356 - acc: 0.9386 - val_loss: 0.1363 - val_acc: 0.9650\n",
            "Epoch 19/20\n",
            "60000/60000 [==============================] - 6s 92us/step - loss: 0.2358 - acc: 0.9390 - val_loss: 0.1246 - val_acc: 0.9680\n",
            "Epoch 20/20\n",
            "60000/60000 [==============================] - 6s 99us/step - loss: 0.2286 - acc: 0.9405 - val_loss: 0.1292 - val_acc: 0.9667\n"
          ],
          "name": "stdout"
        }
      ]
    },
    {
      "cell_type": "code",
      "metadata": {
        "id": "G4NqOEbVeSq8",
        "colab_type": "code",
        "colab": {
          "base_uri": "https://localhost:8080/",
          "height": 313
        },
        "outputId": "ac276285-c88a-4906-d6c2-20427fdfad23"
      },
      "source": [
        "score = model_drop.evaluate(X_test, Y_test, verbose=0) \n",
        "print('Test score:', score[0]) \n",
        "print('Test accuracy:', score[1])\n",
        "\n",
        "fig,ax = plt.subplots(1,1)\n",
        "ax.set_xlabel('epoch') ; ax.set_ylabel('Categorical Crossentropy Loss')\n",
        "\n",
        "# list of epoch numbers\n",
        "x = list(range(1,nb_epoch+1))\n",
        "\n",
        "# print(history.history.keys())\n",
        "# dict_keys(['val_loss', 'val_acc', 'loss', 'acc'])\n",
        "# history = model_drop.fit(X_train, Y_train, batch_size=batch_size, epochs=nb_epoch, verbose=1, validation_data=(X_test, Y_test))\n",
        "\n",
        "# we will get val_loss and val_acc only when you pass the paramter validation_data\n",
        "# val_loss : validation loss\n",
        "# val_acc : validation accuracy\n",
        "\n",
        "# loss : training loss\n",
        "# acc : train accuracy\n",
        "# for each key in histrory.histrory we will have a list of length equal to number of epochs\n",
        "\n",
        "vy = history.history['val_loss']\n",
        "ty = history.history['loss']\n",
        "plt_dynamic(x, vy, ty, ax)"
      ],
      "execution_count": 64,
      "outputs": [
        {
          "output_type": "stream",
          "text": [
            "Test score: 0.12922746661901474\n",
            "Test accuracy: 0.9667\n"
          ],
          "name": "stdout"
        },
        {
          "output_type": "display_data",
          "data": {
            "image/png": "[encoded data removed]",
            "text/plain": [
              "<Figure size 432x288 with 1 Axes>"
            ]
          },
          "metadata": {
            "tags": []
          }
        }
      ]
    },
    {
      "cell_type": "code",
      "metadata": {
        "id": "J0dyqef7e0R3",
        "colab_type": "code",
        "colab": {
          "base_uri": "https://localhost:8080/",
          "height": 285
        },
        "outputId": "f17a1f9f-4b3d-4988-d0d4-27f8c49f4ac4"
      },
      "source": [
        "w_after = model_drop.get_weights()\n",
        "\n",
        "h1_w = w_after[0].flatten().reshape(-1,1)\n",
        "h2_w = w_after[2].flatten().reshape(-1,1)\n",
        "h3_w = w_after[4].flatten().reshape(-1,1)\n",
        "h4_w = w_after[6].flatten().reshape(-1,1)\n",
        "h5_w = w_after[8].flatten().reshape(-1,1)\n",
        "out_w = w_after[10].flatten().reshape(-1,1)\n",
        "\n",
        "\n",
        "fig = plt.figure()\n",
        "plt.title(\"Weight matrices after model trained\")\n",
        "plt.subplot(1, 6, 1)\n",
        "plt.title(\"Trained model Weights\")\n",
        "ax = sns.violinplot(y=h1_w,color='b')\n",
        "plt.xlabel('Hidden Layer 1')\n",
        "\n",
        "plt.subplot(1, 6, 2)\n",
        "plt.title(\"Trained model Weights\")\n",
        "ax = sns.violinplot(y=h2_w, color='r')\n",
        "plt.xlabel('Hidden Layer 2 ')\n",
        "\n",
        "plt.subplot(1, 6, 3)\n",
        "plt.title(\"Trained model Weights\")\n",
        "ax = sns.violinplot(y=h3_w, color='g')\n",
        "plt.xlabel('Hidden Layer 3 ')\n",
        "\n",
        "plt.subplot(1, 6, 4)\n",
        "plt.title(\"Trained model Weights\")\n",
        "ax = sns.violinplot(y=h4_w, color='purple')\n",
        "plt.xlabel('Hidden Layer 4 ')\n",
        "\n",
        "plt.subplot(1, 6, 5)\n",
        "plt.title(\"Trained model Weights\")\n",
        "ax = sns.violinplot(y=h5_w, color='orange')\n",
        "plt.xlabel('Hidden Layer 5 ')\n",
        "\n",
        "plt.subplot(1, 6, 6)\n",
        "plt.title(\"Trained model Weights\")\n",
        "ax = sns.violinplot(y=out_w,color='y')\n",
        "plt.xlabel('Output Layer ')\n",
        "plt.show()"
      ],
      "execution_count": 63,
      "outputs": [
        {
          "output_type": "display_data",
          "data": {
            "image/png": "[encoded data removed]",
            "text/plain": [
              "<Figure size 432x288 with 6 Axes>"
            ]
          },
          "metadata": {
            "tags": []
          }
        }
      ]
    },
    {
      "cell_type": "markdown",
      "metadata": {
        "id": "NgH5A7RdlpuZ",
        "colab_type": "text"
      },
      "source": [
        "<h3> Summary"
      ]
    },
    {
      "cell_type": "code",
      "metadata": {
        "id": "SUjoE4TglyWL",
        "colab_type": "code",
        "colab": {}
      },
      "source": [
        "from prettytable import PrettyTable\n",
        "summary = PrettyTable()"
      ],
      "execution_count": 0,
      "outputs": []
    },
    {
      "cell_type": "code",
      "metadata": {
        "id": "jPjBLSHtl0IZ",
        "colab_type": "code",
        "colab": {}
      },
      "source": [
        "summary.field_names = [\"Model\",\"Dropout\",\"Test Loss\",\"Test Accuracy\"]"
      ],
      "execution_count": 0,
      "outputs": []
    },
    {
      "cell_type": "code",
      "metadata": {
        "id": "NZYCxqZBl_Ao",
        "colab_type": "code",
        "colab": {
          "base_uri": "https://localhost:8080/",
          "height": 153
        },
        "outputId": "142912e1-cf2e-4514-890c-7678712f0b74"
      },
      "source": [
        "summary.add_row([\"MLP + ReLu activation + Adam Optimizer\",\"0.5\", \"0.092\", \"0.9798\"])\n",
        "summary.add_row([\"MLP + ReLu activation + BatchNormalisation + Dropout + ADAM with 2 layers\",\"0.5\", \"0.122\", \"0.9667\"])\n",
        "summary.add_row([\"MLP + ReLu activation + BatchNormalisation + Dropout + ADAM with 3 layers\", \"0.5\", \"0.122\", \"0.9667\"])\n",
        "summary.add_row([\"MLP + ReLu activation + BatchNormalisation + Dropout + ADAM with 5 layers\", \"0.5\", \"0.129\", \"0.9667\"])\n",
        "\n",
        "print(summary)\n"
      ],
      "execution_count": 77,
      "outputs": [
        {
          "output_type": "stream",
          "text": [
            "+---------------------------------------------------------------------------+---------+-----------+---------------+\n",
            "|                                   Model                                   | Dropout | Test Loss | Test Accuracy |\n",
            "+---------------------------------------------------------------------------+---------+-----------+---------------+\n",
            "|                   MLP + ReLu activation + Adam Optimizer                  |   0.5   |   0.092   |     0.9798    |\n",
            "| MLP + ReLu activation + BatchNormalisation + Dropout + ADAM with 2 layers |   0.5   |   0.122   |     0.9667    |\n",
            "| MLP + ReLu activation + BatchNormalisation + Dropout + ADAM with 3 layers |   0.5   |   0.122   |     0.9667    |\n",
            "| MLP + ReLu activation + BatchNormalisation + Dropout + ADAM with 5 layers |   0.5   |   0.129   |     0.9667    |\n",
            "+---------------------------------------------------------------------------+---------+-----------+---------------+\n"
          ],
          "name": "stdout"
        }
      ]
    }
  ]
}